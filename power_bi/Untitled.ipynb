{
 "cells": [
  {
   "cell_type": "code",
   "execution_count": 90,
   "id": "f3f4f1b1-aa8d-463e-b690-e2687b440ef7",
   "metadata": {},
   "outputs": [],
   "source": [
    "import pandas as pd\n",
    "import matplotlib as plt"
   ]
  },
  {
   "cell_type": "code",
   "execution_count": 98,
   "id": "82b70614-f927-4dae-b2ed-680511a509e0",
   "metadata": {},
   "outputs": [],
   "source": [
    "df = pd.read_csv('01_전국 문화시설 현황_2021.csv')\n",
    "data = df[['mlsfc','fclt_name','sgnr_nm','legalemd_nm']]"
   ]
  },
  {
   "cell_type": "code",
   "execution_count": 92,
   "id": "c902e79c-22a3-4f78-b276-a3fca2523f3a",
   "metadata": {},
   "outputs": [
    {
     "data": {
      "text/html": [
       "<div>\n",
       "<style scoped>\n",
       "    .dataframe tbody tr th:only-of-type {\n",
       "        vertical-align: middle;\n",
       "    }\n",
       "\n",
       "    .dataframe tbody tr th {\n",
       "        vertical-align: top;\n",
       "    }\n",
       "\n",
       "    .dataframe thead th {\n",
       "        text-align: right;\n",
       "    }\n",
       "</style>\n",
       "<table border=\"1\" class=\"dataframe\">\n",
       "  <thead>\n",
       "    <tr style=\"text-align: right;\">\n",
       "      <th></th>\n",
       "      <th>mlsfc</th>\n",
       "      <th>fclt_name</th>\n",
       "      <th>sgnr_nm</th>\n",
       "      <th>legalemd_nm</th>\n",
       "    </tr>\n",
       "  </thead>\n",
       "  <tbody>\n",
       "    <tr>\n",
       "      <th>0</th>\n",
       "      <td>공공도서관</td>\n",
       "      <td>서울특별시교육청강남도서관</td>\n",
       "      <td>강남구</td>\n",
       "      <td>삼성동</td>\n",
       "    </tr>\n",
       "    <tr>\n",
       "      <th>1</th>\n",
       "      <td>공공도서관</td>\n",
       "      <td>서울특별시교육청개포도서관</td>\n",
       "      <td>강남구</td>\n",
       "      <td>개포동</td>\n",
       "    </tr>\n",
       "    <tr>\n",
       "      <th>2</th>\n",
       "      <td>공공도서관</td>\n",
       "      <td>서울특별시교육청강동도서관</td>\n",
       "      <td>강동구</td>\n",
       "      <td>길동</td>\n",
       "    </tr>\n",
       "    <tr>\n",
       "      <th>3</th>\n",
       "      <td>공공도서관</td>\n",
       "      <td>서울특별시교육청고덕평생학습관</td>\n",
       "      <td>강동구</td>\n",
       "      <td>고덕동</td>\n",
       "    </tr>\n",
       "    <tr>\n",
       "      <th>4</th>\n",
       "      <td>공공도서관</td>\n",
       "      <td>서울특별시교육청강서도서관</td>\n",
       "      <td>강서구</td>\n",
       "      <td>등촌동</td>\n",
       "    </tr>\n",
       "    <tr>\n",
       "      <th>...</th>\n",
       "      <td>...</td>\n",
       "      <td>...</td>\n",
       "      <td>...</td>\n",
       "      <td>...</td>\n",
       "    </tr>\n",
       "    <tr>\n",
       "      <th>995</th>\n",
       "      <td>공공도서관</td>\n",
       "      <td>경상남도교육청 함양도서관</td>\n",
       "      <td>함양군</td>\n",
       "      <td>함양읍 운림리</td>\n",
       "    </tr>\n",
       "    <tr>\n",
       "      <th>996</th>\n",
       "      <td>공공도서관</td>\n",
       "      <td>경상남도교육청 합천도서관</td>\n",
       "      <td>합천군</td>\n",
       "      <td>합천읍 합천리</td>\n",
       "    </tr>\n",
       "    <tr>\n",
       "      <th>997</th>\n",
       "      <td>공공도서관</td>\n",
       "      <td>마하 어린이도서관</td>\n",
       "      <td>진주시</td>\n",
       "      <td>초전동</td>\n",
       "    </tr>\n",
       "    <tr>\n",
       "      <th>998</th>\n",
       "      <td>공공도서관</td>\n",
       "      <td>거제시립수양도서관</td>\n",
       "      <td>거제시</td>\n",
       "      <td>양정동</td>\n",
       "    </tr>\n",
       "    <tr>\n",
       "      <th>999</th>\n",
       "      <td>공공도서관</td>\n",
       "      <td>거제시립옥포도서관</td>\n",
       "      <td>거제시</td>\n",
       "      <td>옥포동</td>\n",
       "    </tr>\n",
       "  </tbody>\n",
       "</table>\n",
       "<p>1000 rows × 4 columns</p>\n",
       "</div>"
      ],
      "text/plain": [
       "     mlsfc        fclt_name sgnr_nm legalemd_nm\n",
       "0    공공도서관    서울특별시교육청강남도서관     강남구         삼성동\n",
       "1    공공도서관    서울특별시교육청개포도서관     강남구         개포동\n",
       "2    공공도서관    서울특별시교육청강동도서관     강동구          길동\n",
       "3    공공도서관  서울특별시교육청고덕평생학습관     강동구         고덕동\n",
       "4    공공도서관    서울특별시교육청강서도서관     강서구         등촌동\n",
       "..     ...              ...     ...         ...\n",
       "995  공공도서관    경상남도교육청 함양도서관     함양군     함양읍 운림리\n",
       "996  공공도서관    경상남도교육청 합천도서관     합천군     합천읍 합천리\n",
       "997  공공도서관        마하 어린이도서관     진주시         초전동\n",
       "998  공공도서관        거제시립수양도서관     거제시         양정동\n",
       "999  공공도서관        거제시립옥포도서관     거제시         옥포동\n",
       "\n",
       "[1000 rows x 4 columns]"
      ]
     },
     "execution_count": 92,
     "metadata": {},
     "output_type": "execute_result"
    }
   ],
   "source": [
    "data.head(1000)"
   ]
  },
  {
   "cell_type": "code",
   "execution_count": 93,
   "id": "c8409132-b552-47bc-aeaa-b1dd7e7beb9d",
   "metadata": {},
   "outputs": [],
   "source": [
    "data.to_csv(\"target1.csv\",index=False)"
   ]
  },
  {
   "cell_type": "code",
   "execution_count": 134,
   "id": "b5c3e477-9d14-48a0-8618-ae0e2a041d68",
   "metadata": {},
   "outputs": [
    {
     "data": {
      "text/html": [
       "<div>\n",
       "<style scoped>\n",
       "    .dataframe tbody tr th:only-of-type {\n",
       "        vertical-align: middle;\n",
       "    }\n",
       "\n",
       "    .dataframe tbody tr th {\n",
       "        vertical-align: top;\n",
       "    }\n",
       "\n",
       "    .dataframe thead th {\n",
       "        text-align: right;\n",
       "    }\n",
       "</style>\n",
       "<table border=\"1\" class=\"dataframe\">\n",
       "  <thead>\n",
       "    <tr style=\"text-align: right;\">\n",
       "      <th></th>\n",
       "      <th>mlsfc</th>\n",
       "      <th>fclt_name</th>\n",
       "      <th>sgnr_nm</th>\n",
       "      <th>legalemd_nm</th>\n",
       "    </tr>\n",
       "  </thead>\n",
       "  <tbody>\n",
       "    <tr>\n",
       "      <th>983</th>\n",
       "      <td>공공도서관</td>\n",
       "      <td>경상남도교육청 양산도서관</td>\n",
       "      <td>양산시</td>\n",
       "      <td>북부동</td>\n",
       "    </tr>\n",
       "    <tr>\n",
       "      <th>1015</th>\n",
       "      <td>공공도서관</td>\n",
       "      <td>상북어린이도서관</td>\n",
       "      <td>양산시</td>\n",
       "      <td>상북면 석계리</td>\n",
       "    </tr>\n",
       "    <tr>\n",
       "      <th>1016</th>\n",
       "      <td>공공도서관</td>\n",
       "      <td>양산시립도서관</td>\n",
       "      <td>양산시</td>\n",
       "      <td>물금읍 가촌리</td>\n",
       "    </tr>\n",
       "    <tr>\n",
       "      <th>1017</th>\n",
       "      <td>공공도서관</td>\n",
       "      <td>양산영어도서관</td>\n",
       "      <td>양산시</td>\n",
       "      <td>소주동</td>\n",
       "    </tr>\n",
       "    <tr>\n",
       "      <th>1018</th>\n",
       "      <td>공공도서관</td>\n",
       "      <td>양산웅상도서관</td>\n",
       "      <td>양산시</td>\n",
       "      <td>주진동</td>\n",
       "    </tr>\n",
       "    <tr>\n",
       "      <th>1917</th>\n",
       "      <td>박물관</td>\n",
       "      <td>양산시립박물관</td>\n",
       "      <td>양산시</td>\n",
       "      <td>북정동</td>\n",
       "    </tr>\n",
       "    <tr>\n",
       "      <th>1954</th>\n",
       "      <td>박물관</td>\n",
       "      <td>통도사성보박물관</td>\n",
       "      <td>양산시</td>\n",
       "      <td>하북면 지산리</td>\n",
       "    </tr>\n",
       "    <tr>\n",
       "      <th>2543</th>\n",
       "      <td>문예회관</td>\n",
       "      <td>양산문화예술회관</td>\n",
       "      <td>양산시</td>\n",
       "      <td>남부동</td>\n",
       "    </tr>\n",
       "    <tr>\n",
       "      <th>2774</th>\n",
       "      <td>지방문화원</td>\n",
       "      <td>양산문화원</td>\n",
       "      <td>양산시</td>\n",
       "      <td>북정동</td>\n",
       "    </tr>\n",
       "    <tr>\n",
       "      <th>3098</th>\n",
       "      <td>문화의집</td>\n",
       "      <td>상북문화의집</td>\n",
       "      <td>양산시</td>\n",
       "      <td>상북면 석계리</td>\n",
       "    </tr>\n",
       "    <tr>\n",
       "      <th>3099</th>\n",
       "      <td>문화의집</td>\n",
       "      <td>하북문화의집</td>\n",
       "      <td>양산시</td>\n",
       "      <td>하북면 순지리</td>\n",
       "    </tr>\n",
       "    <tr>\n",
       "      <th>3100</th>\n",
       "      <td>문화의집</td>\n",
       "      <td>삼성문화의집</td>\n",
       "      <td>양산시</td>\n",
       "      <td>북정동</td>\n",
       "    </tr>\n",
       "  </tbody>\n",
       "</table>\n",
       "</div>"
      ],
      "text/plain": [
       "      mlsfc      fclt_name sgnr_nm legalemd_nm\n",
       "983   공공도서관  경상남도교육청 양산도서관     양산시         북부동\n",
       "1015  공공도서관       상북어린이도서관     양산시     상북면 석계리\n",
       "1016  공공도서관        양산시립도서관     양산시     물금읍 가촌리\n",
       "1017  공공도서관        양산영어도서관     양산시         소주동\n",
       "1018  공공도서관        양산웅상도서관     양산시         주진동\n",
       "1917    박물관        양산시립박물관     양산시         북정동\n",
       "1954    박물관       통도사성보박물관     양산시     하북면 지산리\n",
       "2543   문예회관       양산문화예술회관     양산시         남부동\n",
       "2774  지방문화원          양산문화원     양산시         북정동\n",
       "3098   문화의집         상북문화의집     양산시     상북면 석계리\n",
       "3099   문화의집         하북문화의집     양산시     하북면 순지리\n",
       "3100   문화의집         삼성문화의집     양산시         북정동"
      ]
     },
     "execution_count": 134,
     "metadata": {},
     "output_type": "execute_result"
    }
   ],
   "source": [
    "data[data['sgnr_nm']==\"양산시\"]"
   ]
  },
  {
   "cell_type": "code",
   "execution_count": 109,
   "id": "f6c8a042-6364-42c0-8f6b-f6fd858903b7",
   "metadata": {},
   "outputs": [],
   "source": [
    "yangsan = data[data['sgnr_nm']==\"양산시\"]\n",
    "jinju = data[data['sgnr_nm']==\"진주시\"]\n",
    "gumi = data[data['sgnr_nm']==\"구미시\"]\n"
   ]
  },
  {
   "cell_type": "markdown",
   "id": "f0005e58-cdae-4f3d-a097-0749da74e564",
   "metadata": {},
   "source": [
    "# 도서관"
   ]
  },
  {
   "cell_type": "code",
   "execution_count": 114,
   "id": "b4995018-10bd-4377-935c-e2a9c0a7c2d7",
   "metadata": {},
   "outputs": [
    {
     "data": {
      "text/plain": [
       "공공도서관    6\n",
       "Name: mlsfc, dtype: int64"
      ]
     },
     "execution_count": 114,
     "metadata": {},
     "output_type": "execute_result"
    }
   ],
   "source": [
    "jinju[jinju['mlsfc'] == '공공도서관']['mlsfc'].value_counts()"
   ]
  },
  {
   "cell_type": "code",
   "execution_count": null,
   "id": "2dc00bb7-eb42-4141-95ca-d2f4a3b4191f",
   "metadata": {},
   "outputs": [
    {
     "data": {
      "text/plain": [
       "공공도서관    5\n",
       "Name: mlsfc, dtype: int64"
      ]
     },
     "execution_count": 115,
     "metadata": {},
     "output_type": "execute_result"
    }
   ],
   "source": [
    "yangsan[yangsan['mlsfc'] == '공공도서관']['mlsfc'].value_counts()"
   ]
  },
  {
   "cell_type": "code",
   "execution_count": 116,
   "id": "dcdb9b38-d4f8-4f83-8cf4-f177e4d9fc9f",
   "metadata": {},
   "outputs": [
    {
     "data": {
      "text/plain": [
       "공공도서관    6\n",
       "Name: mlsfc, dtype: int64"
      ]
     },
     "execution_count": 116,
     "metadata": {},
     "output_type": "execute_result"
    }
   ],
   "source": [
    "gumi[gumi['mlsfc'] == '공공도서관']['mlsfc'].value_counts()"
   ]
  },
  {
   "cell_type": "markdown",
   "id": "4cbb26ca-0b18-4f61-a0bd-26265932bceb",
   "metadata": {},
   "source": [
    "# 박물관"
   ]
  },
  {
   "cell_type": "code",
   "execution_count": 117,
   "id": "dbf05d5f-009c-4be8-982c-9510d2eb67f0",
   "metadata": {},
   "outputs": [
    {
     "data": {
      "text/plain": [
       "박물관    9\n",
       "Name: mlsfc, dtype: int64"
      ]
     },
     "execution_count": 117,
     "metadata": {},
     "output_type": "execute_result"
    }
   ],
   "source": [
    "jinju[jinju['mlsfc'] == '박물관']['mlsfc'].value_counts()"
   ]
  },
  {
   "cell_type": "code",
   "execution_count": 118,
   "id": "1c1ffce3-f0ad-4ce4-aa61-ac02811a57c7",
   "metadata": {},
   "outputs": [
    {
     "data": {
      "text/plain": [
       "박물관    2\n",
       "Name: mlsfc, dtype: int64"
      ]
     },
     "execution_count": 118,
     "metadata": {},
     "output_type": "execute_result"
    }
   ],
   "source": [
    "yangsan[yangsan['mlsfc'] == '박물관']['mlsfc'].value_counts()"
   ]
  },
  {
   "cell_type": "code",
   "execution_count": 119,
   "id": "a3e057a5-97e4-429f-b6d2-33bbc4cb4706",
   "metadata": {},
   "outputs": [
    {
     "data": {
      "text/plain": [
       "박물관    1\n",
       "Name: mlsfc, dtype: int64"
      ]
     },
     "execution_count": 119,
     "metadata": {},
     "output_type": "execute_result"
    }
   ],
   "source": [
    "gumi[gumi['mlsfc'] == '박물관']['mlsfc'].value_counts()"
   ]
  },
  {
   "cell_type": "markdown",
   "id": "a515b27d-d1b4-4aff-8ee8-b46372fd4bf2",
   "metadata": {},
   "source": [
    "# 문화원"
   ]
  },
  {
   "cell_type": "code",
   "execution_count": 127,
   "id": "1d9fe6b0-4e96-414f-a340-0ed6ec77b87a",
   "metadata": {},
   "outputs": [
    {
     "data": {
      "text/plain": [
       "지방문화원    1\n",
       "Name: mlsfc, dtype: int64"
      ]
     },
     "execution_count": 127,
     "metadata": {},
     "output_type": "execute_result"
    }
   ],
   "source": [
    "jinju[jinju['mlsfc'] == '지방문화원']['mlsfc'].value_counts()"
   ]
  },
  {
   "cell_type": "code",
   "execution_count": 128,
   "id": "f24b239e-5ba5-41b3-9a92-d98b8bb2e200",
   "metadata": {},
   "outputs": [
    {
     "data": {
      "text/plain": [
       "지방문화원    1\n",
       "Name: mlsfc, dtype: int64"
      ]
     },
     "execution_count": 128,
     "metadata": {},
     "output_type": "execute_result"
    }
   ],
   "source": [
    "yangsan[yangsan['mlsfc'] == '지방문화원']['mlsfc'].value_counts()"
   ]
  },
  {
   "cell_type": "code",
   "execution_count": 129,
   "id": "c53fa953-f453-476a-a215-bd9a0cfea2f2",
   "metadata": {},
   "outputs": [
    {
     "data": {
      "text/plain": [
       "지방문화원    1\n",
       "Name: mlsfc, dtype: int64"
      ]
     },
     "execution_count": 129,
     "metadata": {},
     "output_type": "execute_result"
    }
   ],
   "source": [
    "gumi[gumi['mlsfc'] == '지방문화원']['mlsfc'].value_counts()"
   ]
  },
  {
   "cell_type": "markdown",
   "id": "c30c1958-b8b0-4f5c-beef-33f4dca7a061",
   "metadata": {},
   "source": [
    "# 문화의집"
   ]
  },
  {
   "cell_type": "code",
   "execution_count": 130,
   "id": "b7901eed-1ebb-4420-87f7-8e0ea4d44e15",
   "metadata": {},
   "outputs": [
    {
     "data": {
      "text/plain": [
       "Series([], Name: mlsfc, dtype: int64)"
      ]
     },
     "execution_count": 130,
     "metadata": {},
     "output_type": "execute_result"
    }
   ],
   "source": [
    "jinju[jinju['mlsfc'] == '문화의집']['mlsfc'].value_counts()"
   ]
  },
  {
   "cell_type": "code",
   "execution_count": 131,
   "id": "f625a1ac-4a63-4db8-9ac2-2cfa80ce7284",
   "metadata": {},
   "outputs": [
    {
     "data": {
      "text/plain": [
       "문화의집    3\n",
       "Name: mlsfc, dtype: int64"
      ]
     },
     "execution_count": 131,
     "metadata": {},
     "output_type": "execute_result"
    }
   ],
   "source": [
    "yangsan[yangsan['mlsfc'] == '문화의집']['mlsfc'].value_counts()"
   ]
  },
  {
   "cell_type": "code",
   "execution_count": 132,
   "id": "90b223b6-e300-4b56-9c62-73fd47a38737",
   "metadata": {},
   "outputs": [
    {
     "data": {
      "text/plain": [
       "문화의집    1\n",
       "Name: mlsfc, dtype: int64"
      ]
     },
     "execution_count": 132,
     "metadata": {},
     "output_type": "execute_result"
    }
   ],
   "source": [
    "gumi[gumi['mlsfc'] == '문화의집']['mlsfc'].value_counts()"
   ]
  },
  {
   "cell_type": "code",
   "execution_count": null,
   "id": "59fdeb49-1740-4c67-9080-3468f9f83aab",
   "metadata": {},
   "outputs": [],
   "source": []
  },
  {
   "cell_type": "code",
   "execution_count": null,
   "id": "95e8b1c3-b593-4f1e-b40c-306a9f75c636",
   "metadata": {},
   "outputs": [],
   "source": []
  },
  {
   "cell_type": "code",
   "execution_count": null,
   "id": "a94a820d-2072-4bbf-acae-84ba04dcff56",
   "metadata": {},
   "outputs": [],
   "source": []
  },
  {
   "cell_type": "code",
   "execution_count": null,
   "id": "791ec1d1-6113-418d-8b6a-51c6d28afc58",
   "metadata": {},
   "outputs": [],
   "source": []
  },
  {
   "cell_type": "code",
   "execution_count": null,
   "id": "df93f01b-0fc4-481f-a795-49a3453a4cd0",
   "metadata": {},
   "outputs": [],
   "source": []
  },
  {
   "cell_type": "code",
   "execution_count": null,
   "id": "52e564d1-1c97-4d3c-9b40-78b3cd67c798",
   "metadata": {},
   "outputs": [],
   "source": []
  },
  {
   "cell_type": "code",
   "execution_count": null,
   "id": "2c4e5c42-7272-45f9-840d-46a794bfc7ca",
   "metadata": {},
   "outputs": [],
   "source": []
  },
  {
   "cell_type": "code",
   "execution_count": null,
   "id": "aacad84b-e878-4aeb-b622-585702fb9aee",
   "metadata": {},
   "outputs": [],
   "source": []
  },
  {
   "cell_type": "code",
   "execution_count": null,
   "id": "900b1d8d-c350-46f8-a107-4738425afd0e",
   "metadata": {},
   "outputs": [],
   "source": []
  },
  {
   "cell_type": "code",
   "execution_count": 105,
   "id": "a22db499-91da-45a4-9ee1-3f67f0d67932",
   "metadata": {},
   "outputs": [
    {
     "data": {
      "text/plain": [
       "mlsfc  fclt_name      sgnr_nm  legalemd_nm\n",
       "공공도서관  경상남도교육청 진양도서관  진주시      문산읍 삼곡리        1\n",
       "       도동어린이도서관       진주시      하대동            1\n",
       "       마하 어린이도서관      진주시      초전동            1\n",
       "       비봉어린이도서관       진주시      옥봉동            1\n",
       "       진주시립서부도서관      진주시      이현동            1\n",
       "       진주시립연암도서관      진주시      상대동            1\n",
       "       진주시어린이전문도서관    진주시      평거동            1\n",
       "dtype: int64"
      ]
     },
     "execution_count": 105,
     "metadata": {},
     "output_type": "execute_result"
    }
   ],
   "source": [
    "jinju[jinju['fclt_name'].str[-3:] == \"도서관\"].value_counts()"
   ]
  },
  {
   "cell_type": "code",
   "execution_count": 120,
   "id": "e9e87192-f61e-49f5-8643-6450aaecbf5e",
   "metadata": {},
   "outputs": [
    {
     "data": {
      "text/html": [
       "<div>\n",
       "<style scoped>\n",
       "    .dataframe tbody tr th:only-of-type {\n",
       "        vertical-align: middle;\n",
       "    }\n",
       "\n",
       "    .dataframe tbody tr th {\n",
       "        vertical-align: top;\n",
       "    }\n",
       "\n",
       "    .dataframe thead th {\n",
       "        text-align: right;\n",
       "    }\n",
       "</style>\n",
       "<table border=\"1\" class=\"dataframe\">\n",
       "  <thead>\n",
       "    <tr style=\"text-align: right;\">\n",
       "      <th></th>\n",
       "      <th>mlsfc</th>\n",
       "      <th>fclt_name</th>\n",
       "      <th>sgnr_nm</th>\n",
       "      <th>legalemd_nm</th>\n",
       "    </tr>\n",
       "  </thead>\n",
       "  <tbody>\n",
       "    <tr>\n",
       "      <th>983</th>\n",
       "      <td>공공도서관</td>\n",
       "      <td>경상남도교육청 양산도서관</td>\n",
       "      <td>양산시</td>\n",
       "      <td>북부동</td>\n",
       "    </tr>\n",
       "    <tr>\n",
       "      <th>1015</th>\n",
       "      <td>공공도서관</td>\n",
       "      <td>상북어린이도서관</td>\n",
       "      <td>양산시</td>\n",
       "      <td>상북면 석계리</td>\n",
       "    </tr>\n",
       "    <tr>\n",
       "      <th>1016</th>\n",
       "      <td>공공도서관</td>\n",
       "      <td>양산시립도서관</td>\n",
       "      <td>양산시</td>\n",
       "      <td>물금읍 가촌리</td>\n",
       "    </tr>\n",
       "    <tr>\n",
       "      <th>1017</th>\n",
       "      <td>공공도서관</td>\n",
       "      <td>양산영어도서관</td>\n",
       "      <td>양산시</td>\n",
       "      <td>소주동</td>\n",
       "    </tr>\n",
       "    <tr>\n",
       "      <th>1018</th>\n",
       "      <td>공공도서관</td>\n",
       "      <td>양산웅상도서관</td>\n",
       "      <td>양산시</td>\n",
       "      <td>주진동</td>\n",
       "    </tr>\n",
       "    <tr>\n",
       "      <th>1917</th>\n",
       "      <td>박물관</td>\n",
       "      <td>양산시립박물관</td>\n",
       "      <td>양산시</td>\n",
       "      <td>북정동</td>\n",
       "    </tr>\n",
       "    <tr>\n",
       "      <th>1954</th>\n",
       "      <td>박물관</td>\n",
       "      <td>통도사성보박물관</td>\n",
       "      <td>양산시</td>\n",
       "      <td>하북면 지산리</td>\n",
       "    </tr>\n",
       "    <tr>\n",
       "      <th>2543</th>\n",
       "      <td>문예회관</td>\n",
       "      <td>양산문화예술회관</td>\n",
       "      <td>양산시</td>\n",
       "      <td>남부동</td>\n",
       "    </tr>\n",
       "    <tr>\n",
       "      <th>2774</th>\n",
       "      <td>지방문화원</td>\n",
       "      <td>양산문화원</td>\n",
       "      <td>양산시</td>\n",
       "      <td>북정동</td>\n",
       "    </tr>\n",
       "    <tr>\n",
       "      <th>3098</th>\n",
       "      <td>문화의집</td>\n",
       "      <td>상북문화의집</td>\n",
       "      <td>양산시</td>\n",
       "      <td>상북면 석계리</td>\n",
       "    </tr>\n",
       "    <tr>\n",
       "      <th>3099</th>\n",
       "      <td>문화의집</td>\n",
       "      <td>하북문화의집</td>\n",
       "      <td>양산시</td>\n",
       "      <td>하북면 순지리</td>\n",
       "    </tr>\n",
       "    <tr>\n",
       "      <th>3100</th>\n",
       "      <td>문화의집</td>\n",
       "      <td>삼성문화의집</td>\n",
       "      <td>양산시</td>\n",
       "      <td>북정동</td>\n",
       "    </tr>\n",
       "  </tbody>\n",
       "</table>\n",
       "</div>"
      ],
      "text/plain": [
       "      mlsfc      fclt_name sgnr_nm legalemd_nm\n",
       "983   공공도서관  경상남도교육청 양산도서관     양산시         북부동\n",
       "1015  공공도서관       상북어린이도서관     양산시     상북면 석계리\n",
       "1016  공공도서관        양산시립도서관     양산시     물금읍 가촌리\n",
       "1017  공공도서관        양산영어도서관     양산시         소주동\n",
       "1018  공공도서관        양산웅상도서관     양산시         주진동\n",
       "1917    박물관        양산시립박물관     양산시         북정동\n",
       "1954    박물관       통도사성보박물관     양산시     하북면 지산리\n",
       "2543   문예회관       양산문화예술회관     양산시         남부동\n",
       "2774  지방문화원          양산문화원     양산시         북정동\n",
       "3098   문화의집         상북문화의집     양산시     상북면 석계리\n",
       "3099   문화의집         하북문화의집     양산시     하북면 순지리\n",
       "3100   문화의집         삼성문화의집     양산시         북정동"
      ]
     },
     "execution_count": 120,
     "metadata": {},
     "output_type": "execute_result"
    }
   ],
   "source": [
    "data[data['sgnr_nm']==\"양산시\"]"
   ]
  },
  {
   "cell_type": "code",
   "execution_count": 102,
   "id": "996ce659-84ed-4e7c-810e-610f8583aa2c",
   "metadata": {},
   "outputs": [
    {
     "data": {
      "text/html": [
       "<div>\n",
       "<style scoped>\n",
       "    .dataframe tbody tr th:only-of-type {\n",
       "        vertical-align: middle;\n",
       "    }\n",
       "\n",
       "    .dataframe tbody tr th {\n",
       "        vertical-align: top;\n",
       "    }\n",
       "\n",
       "    .dataframe thead th {\n",
       "        text-align: right;\n",
       "    }\n",
       "</style>\n",
       "<table border=\"1\" class=\"dataframe\">\n",
       "  <thead>\n",
       "    <tr style=\"text-align: right;\">\n",
       "      <th></th>\n",
       "      <th>mlsfc</th>\n",
       "      <th>fclt_name</th>\n",
       "      <th>sgnr_nm</th>\n",
       "      <th>legalemd_nm</th>\n",
       "    </tr>\n",
       "  </thead>\n",
       "  <tbody>\n",
       "    <tr>\n",
       "      <th>910</th>\n",
       "      <td>공공도서관</td>\n",
       "      <td>경상북도교육청 구미도서관</td>\n",
       "      <td>구미시</td>\n",
       "      <td>원평동</td>\n",
       "    </tr>\n",
       "    <tr>\n",
       "      <th>944</th>\n",
       "      <td>공공도서관</td>\n",
       "      <td>구미시립봉곡도서관</td>\n",
       "      <td>구미시</td>\n",
       "      <td>봉곡동</td>\n",
       "    </tr>\n",
       "    <tr>\n",
       "      <th>945</th>\n",
       "      <td>공공도서관</td>\n",
       "      <td>구미시립상모정수도서관</td>\n",
       "      <td>구미시</td>\n",
       "      <td>상모동</td>\n",
       "    </tr>\n",
       "    <tr>\n",
       "      <th>946</th>\n",
       "      <td>공공도서관</td>\n",
       "      <td>구미시립선산도서관</td>\n",
       "      <td>구미시</td>\n",
       "      <td>선산읍 동부리</td>\n",
       "    </tr>\n",
       "    <tr>\n",
       "      <th>947</th>\n",
       "      <td>공공도서관</td>\n",
       "      <td>구미시립인동도서관</td>\n",
       "      <td>구미시</td>\n",
       "      <td>진평동</td>\n",
       "    </tr>\n",
       "    <tr>\n",
       "      <th>948</th>\n",
       "      <td>공공도서관</td>\n",
       "      <td>구미시립중앙도서관</td>\n",
       "      <td>구미시</td>\n",
       "      <td>형곡동</td>\n",
       "    </tr>\n",
       "    <tr>\n",
       "      <th>1826</th>\n",
       "      <td>박물관</td>\n",
       "      <td>구미시립민속관</td>\n",
       "      <td>구미시</td>\n",
       "      <td>원평동</td>\n",
       "    </tr>\n",
       "    <tr>\n",
       "      <th>2513</th>\n",
       "      <td>문예회관</td>\n",
       "      <td>구미문화예술회관</td>\n",
       "      <td>구미시</td>\n",
       "      <td>송정동</td>\n",
       "    </tr>\n",
       "    <tr>\n",
       "      <th>2514</th>\n",
       "      <td>문예회관</td>\n",
       "      <td>강동복지문화예술회관</td>\n",
       "      <td>구미시</td>\n",
       "      <td>구평동</td>\n",
       "    </tr>\n",
       "    <tr>\n",
       "      <th>2746</th>\n",
       "      <td>지방문화원</td>\n",
       "      <td>구미문화원</td>\n",
       "      <td>구미시</td>\n",
       "      <td>선산읍 동부리</td>\n",
       "    </tr>\n",
       "    <tr>\n",
       "      <th>3084</th>\n",
       "      <td>문화의집</td>\n",
       "      <td>선산문화의집</td>\n",
       "      <td>구미시</td>\n",
       "      <td>선산읍 동부리</td>\n",
       "    </tr>\n",
       "  </tbody>\n",
       "</table>\n",
       "</div>"
      ],
      "text/plain": [
       "      mlsfc      fclt_name sgnr_nm legalemd_nm\n",
       "910   공공도서관  경상북도교육청 구미도서관     구미시         원평동\n",
       "944   공공도서관      구미시립봉곡도서관     구미시         봉곡동\n",
       "945   공공도서관    구미시립상모정수도서관     구미시         상모동\n",
       "946   공공도서관      구미시립선산도서관     구미시     선산읍 동부리\n",
       "947   공공도서관      구미시립인동도서관     구미시         진평동\n",
       "948   공공도서관      구미시립중앙도서관     구미시         형곡동\n",
       "1826    박물관        구미시립민속관     구미시         원평동\n",
       "2513   문예회관       구미문화예술회관     구미시         송정동\n",
       "2514   문예회관     강동복지문화예술회관     구미시         구평동\n",
       "2746  지방문화원          구미문화원     구미시     선산읍 동부리\n",
       "3084   문화의집         선산문화의집     구미시     선산읍 동부리"
      ]
     },
     "execution_count": 102,
     "metadata": {},
     "output_type": "execute_result"
    }
   ],
   "source": [
    "data[data['sgnr_nm']==\"구미시\"]"
   ]
  },
  {
   "cell_type": "markdown",
   "id": "06856580-5697-473f-b2cf-c26dfde59a3c",
   "metadata": {
    "tags": []
   },
   "source": [
    "# 양산시 면적 485.45㎢      // 12       353,792명// 16580억\n",
    "# 진주시 면적 712.9km²     // 18       342,619명// 6022\n",
    "# 구미시 면적  615.4km²    // 11       419,742 명"
   ]
  },
  {
   "cell_type": "code",
   "execution_count": null,
   "id": "d3191073-9958-4e52-933d-94be194249b2",
   "metadata": {},
   "outputs": [],
   "source": []
  },
  {
   "cell_type": "code",
   "execution_count": null,
   "id": "f20b75b6-4d6c-4e6d-b7a5-45cec41221bd",
   "metadata": {},
   "outputs": [],
   "source": []
  },
  {
   "cell_type": "code",
   "execution_count": null,
   "id": "5a0c137f-fb6e-4452-a924-764ce65484de",
   "metadata": {},
   "outputs": [],
   "source": []
  }
 ],
 "metadata": {
  "kernelspec": {
   "display_name": "Python 3 (ipykernel)",
   "language": "python",
   "name": "python3"
  },
  "language_info": {
   "codemirror_mode": {
    "name": "ipython",
    "version": 3
   },
   "file_extension": ".py",
   "mimetype": "text/x-python",
   "name": "python",
   "nbconvert_exporter": "python",
   "pygments_lexer": "ipython3",
   "version": "3.10.9"
  }
 },
 "nbformat": 4,
 "nbformat_minor": 5
}
