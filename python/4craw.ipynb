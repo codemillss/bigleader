{
 "cells": [
  {
   "cell_type": "code",
   "execution_count": 10,
   "id": "f86787a4-2411-4c06-8b41-d40f4d650c02",
   "metadata": {},
   "outputs": [
    {
     "data": {
      "text/plain": [
       "'1,301.00'"
      ]
     },
     "execution_count": 10,
     "metadata": {},
     "output_type": "execute_result"
    }
   ],
   "source": [
    "soup.find_all('span','value')[0].string"
   ]
  },
  {
   "cell_type": "code",
   "execution_count": 12,
   "id": "e276ff6e-5349-4c16-a32a-b3bbbb33d213",
   "metadata": {},
   "outputs": [
    {
     "name": "stdout",
     "output_type": "stream",
     "text": [
      "Collecting selenium\n",
      "  Downloading selenium-4.10.0-py3-none-any.whl (6.7 MB)\n",
      "\u001b[2K     \u001b[90m━━━━━━━━━━━━━━━━━━━━━━━━━━━━━━━━━━━━━━━━\u001b[0m \u001b[32m6.7/6.7 MB\u001b[0m \u001b[31m175.0 kB/s\u001b[0m eta \u001b[36m0:00:00\u001b[0m00:01\u001b[0m00:02\u001b[0m\n",
      "\u001b[?25hRequirement already satisfied: urllib3[socks]<3,>=1.26 in /Users/jin10000/anaconda3/lib/python3.10/site-packages (from selenium) (1.26.14)\n",
      "Collecting trio~=0.17 (from selenium)\n",
      "  Downloading trio-0.22.0-py3-none-any.whl (384 kB)\n",
      "\u001b[2K     \u001b[90m━━━━━━━━━━━━━━━━━━━━━━━━━━━━━━━━━━━━━\u001b[0m \u001b[32m384.9/384.9 kB\u001b[0m \u001b[31m861.3 kB/s\u001b[0m eta \u001b[36m0:00:00\u001b[0m00:01\u001b[0m00:01\u001b[0m\n",
      "\u001b[?25hCollecting trio-websocket~=0.9 (from selenium)\n",
      "  Downloading trio_websocket-0.10.3-py3-none-any.whl (17 kB)\n",
      "Requirement already satisfied: certifi>=2021.10.8 in /Users/jin10000/anaconda3/lib/python3.10/site-packages (from selenium) (2022.12.7)\n",
      "Requirement already satisfied: attrs>=19.2.0 in /Users/jin10000/anaconda3/lib/python3.10/site-packages (from trio~=0.17->selenium) (22.1.0)\n",
      "Requirement already satisfied: sortedcontainers in /Users/jin10000/anaconda3/lib/python3.10/site-packages (from trio~=0.17->selenium) (2.4.0)\n",
      "Collecting async-generator>=1.9 (from trio~=0.17->selenium)\n",
      "  Downloading async_generator-1.10-py3-none-any.whl (18 kB)\n",
      "Requirement already satisfied: idna in /Users/jin10000/anaconda3/lib/python3.10/site-packages (from trio~=0.17->selenium) (3.4)\n",
      "Collecting outcome (from trio~=0.17->selenium)\n",
      "  Downloading outcome-1.2.0-py2.py3-none-any.whl (9.7 kB)\n",
      "Requirement already satisfied: sniffio in /Users/jin10000/anaconda3/lib/python3.10/site-packages (from trio~=0.17->selenium) (1.2.0)\n",
      "Collecting exceptiongroup>=1.0.0rc9 (from trio~=0.17->selenium)\n",
      "  Using cached exceptiongroup-1.1.1-py3-none-any.whl (14 kB)\n",
      "Collecting wsproto>=0.14 (from trio-websocket~=0.9->selenium)\n",
      "  Downloading wsproto-1.2.0-py3-none-any.whl (24 kB)\n",
      "Requirement already satisfied: PySocks!=1.5.7,<2.0,>=1.5.6 in /Users/jin10000/anaconda3/lib/python3.10/site-packages (from urllib3[socks]<3,>=1.26->selenium) (1.7.1)\n",
      "Collecting h11<1,>=0.9.0 (from wsproto>=0.14->trio-websocket~=0.9->selenium)\n",
      "  Downloading h11-0.14.0-py3-none-any.whl (58 kB)\n",
      "\u001b[2K     \u001b[90m━━━━━━━━━━━━━━━━━━━━━━━━━━━━━━━━━━━━━━━━\u001b[0m \u001b[32m58.3/58.3 kB\u001b[0m \u001b[31m1.3 MB/s\u001b[0m eta \u001b[36m0:00:00\u001b[0ma \u001b[36m0:00:01\u001b[0m\n",
      "\u001b[?25hInstalling collected packages: outcome, h11, exceptiongroup, async-generator, wsproto, trio, trio-websocket, selenium\n",
      "Successfully installed async-generator-1.10 exceptiongroup-1.1.1 h11-0.14.0 outcome-1.2.0 selenium-4.10.0 trio-0.22.0 trio-websocket-0.10.3 wsproto-1.2.0\n"
     ]
    }
   ],
   "source": [
    "! pip install selenium"
   ]
  },
  {
   "cell_type": "code",
   "execution_count": 8,
   "id": "1cd57bf9-dcfa-4598-8439-a52d9c5bcac1",
   "metadata": {},
   "outputs": [],
   "source": [
    "from selenium import webdriver"
   ]
  },
  {
   "cell_type": "code",
   "execution_count": 9,
   "id": "22dd9e11-7b88-4472-885c-cf0e634c5376",
   "metadata": {},
   "outputs": [],
   "source": [
    "from bs4 import BeautifulSoup\n",
    "from urllib.request import urlopen\n",
    "from selenium.webdriver.common.by import By"
   ]
  },
  {
   "cell_type": "code",
   "execution_count": 10,
   "id": "9f80d685-7f63-4c6b-a590-3d191973ee71",
   "metadata": {},
   "outputs": [],
   "source": [
    "url = 'https://finance.naver.com/marketindex/'\n",
    "\n",
    "page = urlopen(url)\n",
    "\n",
    "soup = BeautifulSoup(page, 'html.parser')"
   ]
  },
  {
   "cell_type": "code",
   "execution_count": 11,
   "id": "4c7ec5a9-dc27-41a3-9898-791b613dcd99",
   "metadata": {
    "tags": []
   },
   "outputs": [],
   "source": [
    "driver = webdriver.Chrome()"
   ]
  },
  {
   "cell_type": "code",
   "execution_count": 12,
   "id": "f8895d37-80a7-481d-856f-ccdcd89c0bf0",
   "metadata": {
    "tags": []
   },
   "outputs": [],
   "source": [
    "driver.get(\"http://www.opinet.co.kr/searRgSelect.do\")"
   ]
  },
  {
   "cell_type": "code",
   "execution_count": 14,
   "id": "87877c71-7d88-4eb0-9775-a0b4ea1f032b",
   "metadata": {},
   "outputs": [
    {
     "ename": "NoSuchElementException",
     "evalue": "Message: no such element: Unable to locate element: {\"method\":\"xpath\",\"selector\":\"//*[@id=\"SIDO_NM0\"]\"}\n  (Session info: chrome=114.0.5735.198); For documentation on this error, please visit: https://www.selenium.dev/documentation/webdriver/troubleshooting/errors#no-such-element-exception\nStacktrace:\n0   chromedriver                        0x00000001009bff48 chromedriver + 4226888\n1   chromedriver                        0x00000001009b84f4 chromedriver + 4195572\n2   chromedriver                        0x00000001005fcd68 chromedriver + 281960\n3   chromedriver                        0x0000000100637fc8 chromedriver + 524232\n4   chromedriver                        0x000000010066ec58 chromedriver + 748632\n5   chromedriver                        0x000000010062bf1c chromedriver + 474908\n6   chromedriver                        0x000000010062cef4 chromedriver + 478964\n7   chromedriver                        0x000000010098159c chromedriver + 3970460\n8   chromedriver                        0x00000001009856f0 chromedriver + 3987184\n9   chromedriver                        0x000000010098b5b4 chromedriver + 4011444\n10  chromedriver                        0x00000001009862fc chromedriver + 3990268\n11  chromedriver                        0x000000010095e1c0 chromedriver + 3826112\n12  chromedriver                        0x00000001009a2088 chromedriver + 4104328\n13  chromedriver                        0x00000001009a21e0 chromedriver + 4104672\n14  chromedriver                        0x00000001009b1f28 chromedriver + 4169512\n15  libsystem_pthread.dylib             0x000000019d787fa8 _pthread_start + 148\n16  libsystem_pthread.dylib             0x000000019d782da0 thread_start + 8\n",
     "output_type": "error",
     "traceback": [
      "\u001b[0;31m---------------------------------------------------------------------------\u001b[0m",
      "\u001b[0;31mNoSuchElementException\u001b[0m                    Traceback (most recent call last)",
      "Cell \u001b[0;32mIn[14], line 1\u001b[0m\n\u001b[0;32m----> 1\u001b[0m area \u001b[38;5;241m=\u001b[39m \u001b[43mdriver\u001b[49m\u001b[38;5;241;43m.\u001b[39;49m\u001b[43mfind_element\u001b[49m\u001b[43m(\u001b[49m\u001b[43mBy\u001b[49m\u001b[38;5;241;43m.\u001b[39;49m\u001b[43mXPATH\u001b[49m\u001b[43m,\u001b[49m\u001b[43m \u001b[49m\u001b[38;5;124;43m'\u001b[39;49m\u001b[38;5;124;43m//*[@id=\u001b[39;49m\u001b[38;5;124;43m\"\u001b[39;49m\u001b[38;5;124;43mSIDO_NM0\u001b[39;49m\u001b[38;5;124;43m\"\u001b[39;49m\u001b[38;5;124;43m]\u001b[39;49m\u001b[38;5;124;43m'\u001b[39;49m\u001b[43m)\u001b[49m\n",
      "File \u001b[0;32m~/anaconda3/lib/python3.10/site-packages/selenium/webdriver/remote/webdriver.py:740\u001b[0m, in \u001b[0;36mWebDriver.find_element\u001b[0;34m(self, by, value)\u001b[0m\n\u001b[1;32m    737\u001b[0m     by \u001b[38;5;241m=\u001b[39m By\u001b[38;5;241m.\u001b[39mCSS_SELECTOR\n\u001b[1;32m    738\u001b[0m     value \u001b[38;5;241m=\u001b[39m \u001b[38;5;124mf\u001b[39m\u001b[38;5;124m'\u001b[39m\u001b[38;5;124m[name=\u001b[39m\u001b[38;5;124m\"\u001b[39m\u001b[38;5;132;01m{\u001b[39;00mvalue\u001b[38;5;132;01m}\u001b[39;00m\u001b[38;5;124m\"\u001b[39m\u001b[38;5;124m]\u001b[39m\u001b[38;5;124m'\u001b[39m\n\u001b[0;32m--> 740\u001b[0m \u001b[38;5;28;01mreturn\u001b[39;00m \u001b[38;5;28;43mself\u001b[39;49m\u001b[38;5;241;43m.\u001b[39;49m\u001b[43mexecute\u001b[49m\u001b[43m(\u001b[49m\u001b[43mCommand\u001b[49m\u001b[38;5;241;43m.\u001b[39;49m\u001b[43mFIND_ELEMENT\u001b[49m\u001b[43m,\u001b[49m\u001b[43m \u001b[49m\u001b[43m{\u001b[49m\u001b[38;5;124;43m\"\u001b[39;49m\u001b[38;5;124;43musing\u001b[39;49m\u001b[38;5;124;43m\"\u001b[39;49m\u001b[43m:\u001b[49m\u001b[43m \u001b[49m\u001b[43mby\u001b[49m\u001b[43m,\u001b[49m\u001b[43m \u001b[49m\u001b[38;5;124;43m\"\u001b[39;49m\u001b[38;5;124;43mvalue\u001b[39;49m\u001b[38;5;124;43m\"\u001b[39;49m\u001b[43m:\u001b[49m\u001b[43m \u001b[49m\u001b[43mvalue\u001b[49m\u001b[43m}\u001b[49m\u001b[43m)\u001b[49m[\u001b[38;5;124m\"\u001b[39m\u001b[38;5;124mvalue\u001b[39m\u001b[38;5;124m\"\u001b[39m]\n",
      "File \u001b[0;32m~/anaconda3/lib/python3.10/site-packages/selenium/webdriver/remote/webdriver.py:346\u001b[0m, in \u001b[0;36mWebDriver.execute\u001b[0;34m(self, driver_command, params)\u001b[0m\n\u001b[1;32m    344\u001b[0m response \u001b[38;5;241m=\u001b[39m \u001b[38;5;28mself\u001b[39m\u001b[38;5;241m.\u001b[39mcommand_executor\u001b[38;5;241m.\u001b[39mexecute(driver_command, params)\n\u001b[1;32m    345\u001b[0m \u001b[38;5;28;01mif\u001b[39;00m response:\n\u001b[0;32m--> 346\u001b[0m     \u001b[38;5;28;43mself\u001b[39;49m\u001b[38;5;241;43m.\u001b[39;49m\u001b[43merror_handler\u001b[49m\u001b[38;5;241;43m.\u001b[39;49m\u001b[43mcheck_response\u001b[49m\u001b[43m(\u001b[49m\u001b[43mresponse\u001b[49m\u001b[43m)\u001b[49m\n\u001b[1;32m    347\u001b[0m     response[\u001b[38;5;124m\"\u001b[39m\u001b[38;5;124mvalue\u001b[39m\u001b[38;5;124m\"\u001b[39m] \u001b[38;5;241m=\u001b[39m \u001b[38;5;28mself\u001b[39m\u001b[38;5;241m.\u001b[39m_unwrap_value(response\u001b[38;5;241m.\u001b[39mget(\u001b[38;5;124m\"\u001b[39m\u001b[38;5;124mvalue\u001b[39m\u001b[38;5;124m\"\u001b[39m, \u001b[38;5;28;01mNone\u001b[39;00m))\n\u001b[1;32m    348\u001b[0m     \u001b[38;5;28;01mreturn\u001b[39;00m response\n",
      "File \u001b[0;32m~/anaconda3/lib/python3.10/site-packages/selenium/webdriver/remote/errorhandler.py:245\u001b[0m, in \u001b[0;36mErrorHandler.check_response\u001b[0;34m(self, response)\u001b[0m\n\u001b[1;32m    243\u001b[0m         alert_text \u001b[38;5;241m=\u001b[39m value[\u001b[38;5;124m\"\u001b[39m\u001b[38;5;124malert\u001b[39m\u001b[38;5;124m\"\u001b[39m]\u001b[38;5;241m.\u001b[39mget(\u001b[38;5;124m\"\u001b[39m\u001b[38;5;124mtext\u001b[39m\u001b[38;5;124m\"\u001b[39m)\n\u001b[1;32m    244\u001b[0m     \u001b[38;5;28;01mraise\u001b[39;00m exception_class(message, screen, stacktrace, alert_text)  \u001b[38;5;66;03m# type: ignore[call-arg]  # mypy is not smart enough here\u001b[39;00m\n\u001b[0;32m--> 245\u001b[0m \u001b[38;5;28;01mraise\u001b[39;00m exception_class(message, screen, stacktrace)\n",
      "\u001b[0;31mNoSuchElementException\u001b[0m: Message: no such element: Unable to locate element: {\"method\":\"xpath\",\"selector\":\"//*[@id=\"SIDO_NM0\"]\"}\n  (Session info: chrome=114.0.5735.198); For documentation on this error, please visit: https://www.selenium.dev/documentation/webdriver/troubleshooting/errors#no-such-element-exception\nStacktrace:\n0   chromedriver                        0x00000001009bff48 chromedriver + 4226888\n1   chromedriver                        0x00000001009b84f4 chromedriver + 4195572\n2   chromedriver                        0x00000001005fcd68 chromedriver + 281960\n3   chromedriver                        0x0000000100637fc8 chromedriver + 524232\n4   chromedriver                        0x000000010066ec58 chromedriver + 748632\n5   chromedriver                        0x000000010062bf1c chromedriver + 474908\n6   chromedriver                        0x000000010062cef4 chromedriver + 478964\n7   chromedriver                        0x000000010098159c chromedriver + 3970460\n8   chromedriver                        0x00000001009856f0 chromedriver + 3987184\n9   chromedriver                        0x000000010098b5b4 chromedriver + 4011444\n10  chromedriver                        0x00000001009862fc chromedriver + 3990268\n11  chromedriver                        0x000000010095e1c0 chromedriver + 3826112\n12  chromedriver                        0x00000001009a2088 chromedriver + 4104328\n13  chromedriver                        0x00000001009a21e0 chromedriver + 4104672\n14  chromedriver                        0x00000001009b1f28 chromedriver + 4169512\n15  libsystem_pthread.dylib             0x000000019d787fa8 _pthread_start + 148\n16  libsystem_pthread.dylib             0x000000019d782da0 thread_start + 8\n"
     ]
    }
   ],
   "source": [
    "area = driver.find_element(By.XPATH, '//*[@id=\"SIDO_NM0\"]')"
   ]
  },
  {
   "cell_type": "code",
   "execution_count": null,
   "id": "cc5fbaf8-24f9-4f90-87b3-389d1584e27c",
   "metadata": {},
   "outputs": [],
   "source": [
    "area.send_keys('서울')"
   ]
  },
  {
   "cell_type": "code",
   "execution_count": null,
   "id": "97c269bb-a3c2-4195-a444-2a611b3a6e39",
   "metadata": {},
   "outputs": [],
   "source": [
    "# 구/데이터 입력을 위한 xpath 확인\n",
    "gu_list_raw = driver.find_element(By.XPATH, '//*[@id=\"SIGUNGU_NM0\"]')"
   ]
  },
  {
   "cell_type": "code",
   "execution_count": null,
   "id": "5b7bbc56-a58b-477e-8916-de4a1ac8ac12",
   "metadata": {},
   "outputs": [],
   "source": [
    "# 구 리스트 확인 위해 find_elements_by_tag_name으로 option 태그 검색 \n",
    "gu_list = gu_list_raw.find_elements(By.TAG_NAME, 'option')"
   ]
  },
  {
   "cell_type": "code",
   "execution_count": null,
   "id": "94918429-fe80-49d8-a049-431b450b4611",
   "metadata": {},
   "outputs": [],
   "source": [
    "gu_names = [option.get_attribute('value') for option in gu_list]"
   ]
  },
  {
   "cell_type": "code",
   "execution_count": null,
   "id": "394fa313-9282-48b6-a446-73a8a2eb3cc3",
   "metadata": {},
   "outputs": [],
   "source": [
    "gu_names"
   ]
  },
  {
   "cell_type": "code",
   "execution_count": null,
   "id": "bed78709-a6ec-43a2-b040-a8f922bd8a50",
   "metadata": {},
   "outputs": [],
   "source": [
    "gu_names.remove('')\n",
    "gu_names"
   ]
  },
  {
   "cell_type": "code",
   "execution_count": null,
   "id": "8f8854b9-d32e-4199-a381-58b5a4cd866c",
   "metadata": {},
   "outputs": [],
   "source": [
    "element = driver.find_element(By.ID, 'SIGUNGU_NM0') \n",
    "element.send_keys(gu_names[0])"
   ]
  },
  {
   "cell_type": "code",
   "execution_count": null,
   "id": "4ea6b0f0-5b3c-4f53-a207-b722123fcc9a",
   "metadata": {},
   "outputs": [],
   "source": [
    "#조회버튼의 Xpath를 찾아서 클릭\n",
    "xpath ='''//*[@id=\"searRgSelect\"]/span'''\n",
    "element_sel_gu = driver.find_element(By.XPATH, xpath).click()"
   ]
  },
  {
   "cell_type": "code",
   "execution_count": null,
   "id": "9335c392-f694-461f-a0ae-8174a8781ce1",
   "metadata": {},
   "outputs": [],
   "source": [
    "#엑셀 저장 버튼 클릭하여 엑셀 내용 저장 테스트\n",
    "xpath = '''//*[@id=\"glopopd_excel\"]/span'''\n",
    "element_get_excel = driver.find_element(By.XPATH, xpath).click()"
   ]
  },
  {
   "cell_type": "code",
   "execution_count": null,
   "id": "64d39370-a8f9-4b09-9451-e9cf79362641",
   "metadata": {},
   "outputs": [],
   "source": [
    "import time\n",
    "from tqdm import tqdm\n",
    "\n",
    "# 반복문을 이용하여 모든 구 엑셀파일 다운로드 진행\n",
    "for gu in tqdm(gu_names):\n",
    "    element = driver.find_element(By.ID, 'SIGUNGU_NM0')\n",
    "    element.send_keys(gu)\n",
    "    time.sleep(2)  # 데이터 획득 위한 지연 시간\n",
    "    xpath = '''//*[@id=\"searRgSelect\"]/span'''\n",
    "    element_sel_gu = driver.find_element(By.XPATH, xpath).click()\n",
    "    time.sleep(1)\n",
    "    xpath = '''//*[@id=\"glopopd_excel\"]/span'''\n",
    "    element_get_excel = driver.find_element(By.XPATH, xpath).click()\n",
    "    time.sleep(1)"
   ]
  },
  {
   "cell_type": "code",
   "execution_count": null,
   "id": "dbf6bba4-af3e-4463-9445-e449f6f280fc",
   "metadata": {},
   "outputs": [],
   "source": []
  },
  {
   "cell_type": "code",
   "execution_count": null,
   "id": "265cb77d-4b4a-4813-b545-ba1c6dafb6be",
   "metadata": {},
   "outputs": [],
   "source": []
  }
 ],
 "metadata": {
  "kernelspec": {
   "display_name": "Python 3 (ipykernel)",
   "language": "python",
   "name": "python3"
  },
  "language_info": {
   "codemirror_mode": {
    "name": "ipython",
    "version": 3
   },
   "file_extension": ".py",
   "mimetype": "text/x-python",
   "name": "python",
   "nbconvert_exporter": "python",
   "pygments_lexer": "ipython3",
   "version": "3.10.9"
  }
 },
 "nbformat": 4,
 "nbformat_minor": 5
}
