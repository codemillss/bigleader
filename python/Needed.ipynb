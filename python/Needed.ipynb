{
 "cells": [
  {
   "cell_type": "markdown",
   "id": "0c25f39c-1cca-4429-8a2f-9c53b6e5a2da",
   "metadata": {},
   "source": [
    "# 출력"
   ]
  },
  {
   "cell_type": "markdown",
   "id": "f2c82b70-9965-4434-a149-820144a61aaa",
   "metadata": {},
   "source": [
    "## format"
   ]
  },
  {
   "cell_type": "code",
   "execution_count": 3,
   "id": "9885dbc2-cd81-4182-bf2e-edbc5e788890",
   "metadata": {},
   "outputs": [
    {
     "name": "stdout",
     "output_type": "stream",
     "text": [
      "1999년 12월 28일은 나의 생일이다.\n"
     ]
    }
   ],
   "source": [
    "a=1999\n",
    "b=12\n",
    "c=28\n",
    "print(\"{}년 {}월 {}일은 나의 {}이다.\".format(a,b,c,\"생일\"))"
   ]
  },
  {
   "cell_type": "code",
   "execution_count": null,
   "id": "32e537d4-a038-425a-a5e2-de2de0da2f83",
   "metadata": {},
   "outputs": [],
   "source": []
  },
  {
   "cell_type": "markdown",
   "id": "5fd4daba-3d41-49dd-aca7-6def53b62abd",
   "metadata": {},
   "source": [
    "## f-string"
   ]
  },
  {
   "cell_type": "code",
   "execution_count": 5,
   "id": "c15a2f12-bb18-4587-b71c-34c5134a72e7",
   "metadata": {},
   "outputs": [
    {
     "name": "stdout",
     "output_type": "stream",
     "text": [
      "1999년 12월 28일은 나의 생일이다.\n"
     ]
    }
   ],
   "source": [
    "print(f\"{a}년 {b}월 {c}일은 나의 생일이다.\")"
   ]
  },
  {
   "cell_type": "code",
   "execution_count": null,
   "id": "63f2670a-d3a5-40c3-960b-992609e56212",
   "metadata": {},
   "outputs": [],
   "source": []
  },
  {
   "cell_type": "markdown",
   "id": "5b52a6f0-658c-4640-8415-41c4b507ceba",
   "metadata": {},
   "source": [
    "# for-enumerate"
   ]
  },
  {
   "cell_type": "code",
   "execution_count": 9,
   "id": "f826f68f-671b-41f9-999b-c6623cee3277",
   "metadata": {},
   "outputs": [
    {
     "name": "stdout",
     "output_type": "stream",
     "text": [
      "(0, '바나나')\n",
      "(1, '사과')\n",
      "(2, '고구마')\n",
      "(3, '감자')\n"
     ]
    }
   ],
   "source": [
    "A = [\"바나나\",\"사과\",\"고구마\",\"감자\"]\n",
    "for item in enumerate (A) :\n",
    "    print(item)"
   ]
  },
  {
   "cell_type": "code",
   "execution_count": 8,
   "id": "68d1da53-d7bd-419c-b57c-d275f83ebda7",
   "metadata": {},
   "outputs": [
    {
     "name": "stdout",
     "output_type": "stream",
     "text": [
      "0 바나나\n",
      "1 사과\n",
      "2 고구마\n",
      "3 감자\n"
     ]
    }
   ],
   "source": [
    "A = [\"바나나\",\"사과\",\"고구마\",\"감자\"]\n",
    "for (i,item) in enumerate (A) :\n",
    "    print(i,item)\n",
    "    "
   ]
  },
  {
   "cell_type": "code",
   "execution_count": null,
   "id": "5b58a1c4-5477-4a80-aea9-dbe150b88f62",
   "metadata": {},
   "outputs": [],
   "source": []
  },
  {
   "cell_type": "markdown",
   "id": "f6956946-0b19-49f6-94f1-d2817f3c421f",
   "metadata": {},
   "source": [
    "# 딕셔너리 for"
   ]
  },
  {
   "cell_type": "code",
   "execution_count": 12,
   "id": "6de54bde-96f3-4155-b1c1-7dcd323d1071",
   "metadata": {},
   "outputs": [
    {
     "name": "stdout",
     "output_type": "stream",
     "text": [
      "이름 별\n",
      "생일 (2019, 11, 14)\n"
     ]
    }
   ],
   "source": [
    "B = {\n",
    "    \"이름\" : \"별\",\n",
    "     \"생일\" : (2019, 11, 14)\n",
    "    }\n",
    "\n",
    "for key in B :\n",
    "    print(key,B[key])"
   ]
  },
  {
   "cell_type": "code",
   "execution_count": 19,
   "id": "3a516b32-37a5-4c97-b87c-6f0c3483adfd",
   "metadata": {},
   "outputs": [
    {
     "name": "stdout",
     "output_type": "stream",
     "text": [
      "이름 (2019, 11, 14)\n",
      "생일 (2019, 11, 14)\n"
     ]
    }
   ],
   "source": [
    "for key, vlaue in B.items() :\n",
    "    print(key, value)"
   ]
  },
  {
   "cell_type": "code",
   "execution_count": null,
   "id": "ebd858ba-d760-4897-ad62-8424766b255a",
   "metadata": {},
   "outputs": [],
   "source": []
  }
 ],
 "metadata": {
  "kernelspec": {
   "display_name": "Python 3 (ipykernel)",
   "language": "python",
   "name": "python3"
  },
  "language_info": {
   "codemirror_mode": {
    "name": "ipython",
    "version": 3
   },
   "file_extension": ".py",
   "mimetype": "text/x-python",
   "name": "python",
   "nbconvert_exporter": "python",
   "pygments_lexer": "ipython3",
   "version": "3.10.9"
  }
 },
 "nbformat": 4,
 "nbformat_minor": 5
}
