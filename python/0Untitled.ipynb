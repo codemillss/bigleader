{
 "cells": [
  {
   "cell_type": "markdown",
   "id": "363920fb-3ac9-49bc-beab-43a20ff30b48",
   "metadata": {},
   "source": [
    "# 1. 도입"
   ]
  },
  {
   "cell_type": "code",
   "execution_count": 83,
   "id": "39afe622-52ea-48b8-9509-20aca775b372",
   "metadata": {},
   "outputs": [],
   "source": [
    "import numpy as np\n",
    "import pandas as pd\n",
    "import matplotlib as plt\n",
    "from functools import reduce"
   ]
  },
  {
   "cell_type": "code",
   "execution_count": 13,
   "id": "99e688c5-45f3-45a7-94cf-ad37a07317f9",
   "metadata": {},
   "outputs": [
    {
     "data": {
      "text/plain": [
       "4"
      ]
     },
     "execution_count": 13,
     "metadata": {},
     "output_type": "execute_result"
    }
   ],
   "source": [
    "list1 = [1,2,3,4]\n"
   ]
  },
  {
   "cell_type": "code",
   "execution_count": 16,
   "id": "1ac397ab-fd38-4cd5-b225-936d7c37cb8e",
   "metadata": {},
   "outputs": [
    {
     "data": {
      "text/plain": [
       "55"
      ]
     },
     "execution_count": 16,
     "metadata": {},
     "output_type": "execute_result"
    }
   ],
   "source": [
    "np.arange(1,11).sum()"
   ]
  },
  {
   "cell_type": "code",
   "execution_count": 24,
   "id": "7d530672-4336-4409-9401-208ad57835e0",
   "metadata": {},
   "outputs": [
    {
     "data": {
      "text/plain": [
       "Series([], dtype: object)"
      ]
     },
     "execution_count": 24,
     "metadata": {},
     "output_type": "execute_result"
    }
   ],
   "source": [
    "series0 = pd.Series(dtype=object)\n",
    "series0"
   ]
  },
  {
   "cell_type": "code",
   "execution_count": 25,
   "id": "1ca47a31-4b7c-4cc1-b9f2-26fe153fac00",
   "metadata": {},
   "outputs": [
    {
     "data": {
      "text/plain": [
       "0    1.5\n",
       "dtype: float64"
      ]
     },
     "execution_count": 25,
     "metadata": {},
     "output_type": "execute_result"
    }
   ],
   "source": [
    "series1 = pd.Series(1.5)\n",
    "series1"
   ]
  },
  {
   "cell_type": "code",
   "execution_count": 28,
   "id": "bf13d4e5-3dee-4117-bfe6-6ee2e644e039",
   "metadata": {},
   "outputs": [
    {
     "data": {
      "text/plain": [
       "(RangeIndex(start=0, stop=1, step=1), array([1.5]))"
      ]
     },
     "execution_count": 28,
     "metadata": {},
     "output_type": "execute_result"
    }
   ],
   "source": [
    "series1.index,series1.values"
   ]
  },
  {
   "cell_type": "code",
   "execution_count": 29,
   "id": "4d7e64e5-41a5-4224-be37-cb1b4cca8f5b",
   "metadata": {},
   "outputs": [
    {
     "data": {
      "text/plain": [
       "pandas.core.indexes.range.RangeIndex"
      ]
     },
     "execution_count": 29,
     "metadata": {},
     "output_type": "execute_result"
    }
   ],
   "source": [
    "type(series1.index)"
   ]
  },
  {
   "cell_type": "code",
   "execution_count": 42,
   "id": "f91f56a0-d441-4c5c-afbf-0e96fefe21a6",
   "metadata": {},
   "outputs": [
    {
     "data": {
      "text/plain": [
       "a    1\n",
       "b    2\n",
       "c    3\n",
       "d    4\n",
       "e    5\n",
       "dtype: int64"
      ]
     },
     "execution_count": 42,
     "metadata": {},
     "output_type": "execute_result"
    }
   ],
   "source": [
    "series2 = pd.Series([1,2,3,4,5],index = list(\"abcde\"))\n",
    "series2"
   ]
  },
  {
   "cell_type": "code",
   "execution_count": 43,
   "id": "e9f64a12-ec59-4e2e-bda0-34efecdf5661",
   "metadata": {},
   "outputs": [
    {
     "data": {
      "text/plain": [
       "b    2\n",
       "c    3\n",
       "d    4\n",
       "dtype: int64"
      ]
     },
     "execution_count": 43,
     "metadata": {},
     "output_type": "execute_result"
    }
   ],
   "source": [
    "series2[[1,2,3]]"
   ]
  },
  {
   "cell_type": "code",
   "execution_count": 54,
   "id": "4f82995b-8dab-444e-a19e-bd86c46ec74b",
   "metadata": {},
   "outputs": [
    {
     "name": "stdin",
     "output_type": "stream",
     "text": [
      "두 정수를 입력 받으세요  a b\n"
     ]
    }
   ],
   "source": [
    "a,b = input(\"두 정수를 입력 받으세요 \").split()"
   ]
  },
  {
   "cell_type": "code",
   "execution_count": 55,
   "id": "7518cb67-5832-4884-a38e-919f87bac8a4",
   "metadata": {},
   "outputs": [
    {
     "data": {
      "text/plain": [
       "('a', 'b')"
      ]
     },
     "execution_count": 55,
     "metadata": {},
     "output_type": "execute_result"
    }
   ],
   "source": [
    "a,b"
   ]
  },
  {
   "cell_type": "code",
   "execution_count": 60,
   "id": "dcf366f0-195f-4b26-ba12-cc4fa36f2e36",
   "metadata": {},
   "outputs": [
    {
     "name": "stdin",
     "output_type": "stream",
     "text": [
      "두 정수를 입력 받으세요  2 4\n"
     ]
    }
   ],
   "source": [
    "c,d = map(int, input(\"두 정수를 입력 받으세요 \").split())\n"
   ]
  },
  {
   "cell_type": "code",
   "execution_count": 61,
   "id": "a061b66e-1d30-495f-b5a0-510ffda0c7ac",
   "metadata": {},
   "outputs": [
    {
     "data": {
      "text/plain": [
       "(2, 4)"
      ]
     },
     "execution_count": 61,
     "metadata": {},
     "output_type": "execute_result"
    }
   ],
   "source": [
    "c, d"
   ]
  },
  {
   "cell_type": "code",
   "execution_count": 63,
   "id": "eb74e116-836e-4557-8dff-3e86ade51b4f",
   "metadata": {},
   "outputs": [],
   "source": [
    "dict = {1: \"abc\", 2:[1,2,3], 3:\"python\"}"
   ]
  },
  {
   "cell_type": "code",
   "execution_count": 64,
   "id": "e6499b8f-eaa0-4f9e-8254-faf3ba5388d0",
   "metadata": {},
   "outputs": [
    {
     "data": {
      "text/plain": [
       "dict_keys([1, 2, 3])"
      ]
     },
     "execution_count": 64,
     "metadata": {},
     "output_type": "execute_result"
    }
   ],
   "source": [
    "dict.keys()"
   ]
  },
  {
   "cell_type": "code",
   "execution_count": 65,
   "id": "be499956-353f-4eb6-9e28-c3c5bf328e4a",
   "metadata": {},
   "outputs": [
    {
     "data": {
      "text/plain": [
       "dict_values(['abc', [1, 2, 3], 'python'])"
      ]
     },
     "execution_count": 65,
     "metadata": {},
     "output_type": "execute_result"
    }
   ],
   "source": [
    "dict.values()"
   ]
  },
  {
   "cell_type": "code",
   "execution_count": 66,
   "id": "41b02d99-e406-4c62-bbb4-fd1658302a5e",
   "metadata": {},
   "outputs": [
    {
     "data": {
      "text/plain": [
       "dict_items([(1, 'abc'), (2, [1, 2, 3]), (3, 'python')])"
      ]
     },
     "execution_count": 66,
     "metadata": {},
     "output_type": "execute_result"
    }
   ],
   "source": [
    "dict.items()"
   ]
  },
  {
   "cell_type": "code",
   "execution_count": 69,
   "id": "11b215c3-a386-4fab-a240-d74c8fe0d740",
   "metadata": {},
   "outputs": [
    {
     "data": {
      "text/plain": [
       "('abc', [1, 2, 3], 'python')"
      ]
     },
     "execution_count": 69,
     "metadata": {},
     "output_type": "execute_result"
    }
   ],
   "source": [
    "dict.get(1),dict.get(2),dict.get(3)"
   ]
  },
  {
   "cell_type": "code",
   "execution_count": 71,
   "id": "ed5b65ab-0c7e-46cb-8821-60be4c6cd762",
   "metadata": {},
   "outputs": [
    {
     "data": {
      "text/plain": [
       "('abc', [1, 2, 3], 'python')"
      ]
     },
     "execution_count": 71,
     "metadata": {},
     "output_type": "execute_result"
    }
   ],
   "source": [
    "dict[1],dict[2],dict[3]"
   ]
  },
  {
   "cell_type": "markdown",
   "id": "62ff7296-4ccf-495a-96b8-f9d3ba66350f",
   "metadata": {},
   "source": []
  },
  {
   "cell_type": "code",
   "execution_count": 75,
   "id": "175141cb-7c8d-47a7-b4fa-25752ed7ec19",
   "metadata": {},
   "outputs": [
    {
     "data": {
      "text/plain": [
       "'rockey'"
      ]
     },
     "execution_count": 75,
     "metadata": {},
     "output_type": "execute_result"
    }
   ],
   "source": [
    "dict.get(10,\"rockey\")"
   ]
  },
  {
   "cell_type": "code",
   "execution_count": 76,
   "id": "87e95610-c632-4ff7-90d1-d48428acb539",
   "metadata": {},
   "outputs": [
    {
     "ename": "KeyError",
     "evalue": "10",
     "output_type": "error",
     "traceback": [
      "\u001b[0;31m---------------------------------------------------------------------------\u001b[0m",
      "\u001b[0;31mKeyError\u001b[0m                                  Traceback (most recent call last)",
      "Cell \u001b[0;32mIn[76], line 1\u001b[0m\n\u001b[0;32m----> 1\u001b[0m \u001b[38;5;28;43mdict\u001b[39;49m\u001b[43m[\u001b[49m\u001b[38;5;241;43m10\u001b[39;49m\u001b[43m]\u001b[49m\n",
      "\u001b[0;31mKeyError\u001b[0m: 10"
     ]
    }
   ],
   "source": [
    "dict[10]"
   ]
  },
  {
   "cell_type": "code",
   "execution_count": null,
   "id": "7e8e70cf-ec94-4a75-bd8f-b264fab94635",
   "metadata": {},
   "outputs": [],
   "source": []
  },
  {
   "cell_type": "code",
   "execution_count": null,
   "id": "0e90d3f8-9169-4302-b662-9c911186ff87",
   "metadata": {},
   "outputs": [],
   "source": []
  },
  {
   "cell_type": "code",
   "execution_count": 79,
   "id": "6b612ba5-88f3-4ed5-9400-4e6f40b5ca58",
   "metadata": {},
   "outputs": [],
   "source": [
    "a=3\n",
    "b=5"
   ]
  },
  {
   "cell_type": "code",
   "execution_count": 80,
   "id": "3f847c77-e789-4480-b497-d541ecea8ef7",
   "metadata": {},
   "outputs": [
    {
     "data": {
      "text/plain": [
       "<function __main__.<lambda>(a, b)>"
      ]
     },
     "execution_count": 80,
     "metadata": {},
     "output_type": "execute_result"
    }
   ],
   "source": [
    "lambda a,b : a**b"
   ]
  },
  {
   "cell_type": "code",
   "execution_count": 82,
   "id": "67194271-407e-40af-9b89-07e200eb2d89",
   "metadata": {},
   "outputs": [
    {
     "data": {
      "text/plain": [
       "\u001b[0;31mInit signature:\u001b[0m \u001b[0mmap\u001b[0m\u001b[0;34m(\u001b[0m\u001b[0mself\u001b[0m\u001b[0;34m,\u001b[0m \u001b[0;34m/\u001b[0m\u001b[0;34m,\u001b[0m \u001b[0;34m*\u001b[0m\u001b[0margs\u001b[0m\u001b[0;34m,\u001b[0m \u001b[0;34m**\u001b[0m\u001b[0mkwargs\u001b[0m\u001b[0;34m)\u001b[0m\u001b[0;34m\u001b[0m\u001b[0;34m\u001b[0m\u001b[0m\n",
       "\u001b[0;31mDocstring:\u001b[0m     \n",
       "map(func, *iterables) --> map object\n",
       "\n",
       "Make an iterator that computes the function using arguments from\n",
       "each of the iterables.  Stops when the shortest iterable is exhausted.\n",
       "\u001b[0;31mType:\u001b[0m           type\n",
       "\u001b[0;31mSubclasses:\u001b[0m     "
      ]
     },
     "metadata": {},
     "output_type": "display_data"
    }
   ],
   "source": [
    "?map"
   ]
  },
  {
   "cell_type": "code",
   "execution_count": null,
   "id": "2559efb9-8981-41ec-9aa3-49d93557c5b6",
   "metadata": {},
   "outputs": [],
   "source": [
    "map(lambda a,b : a**b"
   ]
  },
  {
   "cell_type": "code",
   "execution_count": null,
   "id": "b8a7424b-2181-419c-bbb5-8790767c7d8f",
   "metadata": {},
   "outputs": [],
   "source": []
  },
  {
   "cell_type": "code",
   "execution_count": 84,
   "id": "50229a4f-c2d9-4f25-8896-6629c31e0b29",
   "metadata": {},
   "outputs": [
    {
     "data": {
      "text/plain": [
       "[8, 7, 9]"
      ]
     },
     "execution_count": 85,
     "metadata": {},
     "output_type": "execute_result"
    }
   ],
   "source": [
    "a = [8, 3, 2, 10, 15, 7, 1, 9, 0, 11]\n",
    ">>> [i for i in a if i > 5 and i < 10]\n",
    "[8, 7, 9]"
   ]
  },
  {
   "cell_type": "markdown",
   "id": "d05e7920-b799-402e-9983-13dd54129f6f",
   "metadata": {},
   "source": [
    "# 파일"
   ]
  },
  {
   "cell_type": "code",
   "execution_count": 105,
   "id": "18589a5f-a5f5-4ef5-8821-88a2c7122459",
   "metadata": {},
   "outputs": [],
   "source": [
    "f = open('0626.txt','w')\n",
    "f.write('practic file input_output')\n",
    "f.close()"
   ]
  },
  {
   "cell_type": "code",
   "execution_count": 106,
   "id": "19e907b0-cabf-495e-a5c5-215bced6ade7",
   "metadata": {},
   "outputs": [],
   "source": [
    "f = open('0626.txt','r')\n",
    "a = f.read()\n",
    "b = f.readline()\n",
    "c = f.readlines()"
   ]
  },
  {
   "cell_type": "code",
   "execution_count": 107,
   "id": "60b345ac-ee57-4988-bfe4-e6d14aea5060",
   "metadata": {},
   "outputs": [
    {
     "data": {
      "text/plain": [
       "'practic file input_output'"
      ]
     },
     "execution_count": 107,
     "metadata": {},
     "output_type": "execute_result"
    }
   ],
   "source": [
    "a"
   ]
  },
  {
   "cell_type": "code",
   "execution_count": 108,
   "id": "86111f6f-a6b8-4656-ae03-2c0390545355",
   "metadata": {},
   "outputs": [
    {
     "data": {
      "text/plain": [
       "''"
      ]
     },
     "execution_count": 108,
     "metadata": {},
     "output_type": "execute_result"
    }
   ],
   "source": [
    "b"
   ]
  },
  {
   "cell_type": "code",
   "execution_count": 109,
   "id": "52a18dc9-cf29-4ba5-a111-dca4fbe3c0ed",
   "metadata": {},
   "outputs": [
    {
     "data": {
      "text/plain": [
       "[]"
      ]
     },
     "execution_count": 109,
     "metadata": {},
     "output_type": "execute_result"
    }
   ],
   "source": [
    "c"
   ]
  },
  {
   "cell_type": "code",
   "execution_count": 113,
   "id": "be08de4f-c33d-46f0-8bf7-60a7d0b5c635",
   "metadata": {},
   "outputs": [],
   "source": [
    "f = open('0625.txt','w')\n",
    "for i in range(1,11):\n",
    "    f.write(str(i))\n",
    "f.close()"
   ]
  },
  {
   "cell_type": "code",
   "execution_count": 122,
   "id": "69c147f1-632b-40c7-955b-2ebbf40c35b5",
   "metadata": {},
   "outputs": [
    {
     "data": {
      "text/plain": [
       "'12345678910'"
      ]
     },
     "execution_count": 122,
     "metadata": {},
     "output_type": "execute_result"
    }
   ],
   "source": [
    "f = open('0625.txt','r')\n",
    "f.readline()"
   ]
  },
  {
   "cell_type": "code",
   "execution_count": 121,
   "id": "ff777fda-c7dc-4694-a205-0a8fd079e1fc",
   "metadata": {},
   "outputs": [
    {
     "data": {
      "text/plain": [
       "['12345678910']"
      ]
     },
     "execution_count": 121,
     "metadata": {},
     "output_type": "execute_result"
    }
   ],
   "source": [
    "f = open('0625.txt','r')\n",
    "f.readlines()"
   ]
  },
  {
   "cell_type": "code",
   "execution_count": null,
   "id": "c78a89db-9206-4f6f-a0d2-288782fa699a",
   "metadata": {},
   "outputs": [],
   "source": []
  },
  {
   "cell_type": "markdown",
   "id": "417a4089-bb70-4b8b-8daf-4d03ddcbfaf4",
   "metadata": {},
   "source": [
    "# 파일 입출력 \n",
    "## 파일 읽고 쓰기\n",
    "### 실습문제"
   ]
  },
  {
   "cell_type": "code",
   "execution_count": 138,
   "id": "cdaee640-845c-4b8b-8584-18c60a4d8694",
   "metadata": {},
   "outputs": [],
   "source": [
    "student = [70,60,55,75,95,90,80,80,85,100]"
   ]
  },
  {
   "cell_type": "code",
   "execution_count": 148,
   "id": "0637e1ca-ddd5-4de4-a33d-04f74c48ca56",
   "metadata": {},
   "outputs": [],
   "source": [
    "f = open('student.txt','w')\n",
    "for i in range(len(student)):\n",
    "    f.write('%1d'%student[i])\n",
    "    f.write(' ')\n",
    "f.write('\\n')\n",
    "f.close()"
   ]
  },
  {
   "cell_type": "code",
   "execution_count": null,
   "id": "4026968f-394a-4dce-8c6d-50565435f64c",
   "metadata": {},
   "outputs": [],
   "source": []
  }
 ],
 "metadata": {
  "kernelspec": {
   "display_name": "Python 3 (ipykernel)",
   "language": "python",
   "name": "python3"
  },
  "language_info": {
   "codemirror_mode": {
    "name": "ipython",
    "version": 3
   },
   "file_extension": ".py",
   "mimetype": "text/x-python",
   "name": "python",
   "nbconvert_exporter": "python",
   "pygments_lexer": "ipython3",
   "version": "3.10.9"
  }
 },
 "nbformat": 4,
 "nbformat_minor": 5
}
