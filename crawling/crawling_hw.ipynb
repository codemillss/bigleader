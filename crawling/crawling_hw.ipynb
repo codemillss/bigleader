{
 "cells": [
  {
   "cell_type": "markdown",
   "id": "1b1bbb2d-162f-440a-b823-415212ea9367",
   "metadata": {
    "tags": []
   },
   "source": [
    "# 1차 과제"
   ]
  },
  {
   "cell_type": "code",
   "execution_count": 1,
   "id": "97f6f8ca-b4b5-46dc-8720-4100f5c69e3f",
   "metadata": {
    "tags": []
   },
   "outputs": [],
   "source": [
    "from selenium import webdriver\n",
    "import chromedriver_autoinstaller as ca\n",
    "import time, os, sys"
   ]
  },
  {
   "cell_type": "code",
   "execution_count": 2,
   "id": "ba75ba58-e5ee-4c46-90d5-b23656aa5bfb",
   "metadata": {},
   "outputs": [],
   "source": [
    "def ts(x) :\n",
    "    time.sleep(x)"
   ]
  },
  {
   "cell_type": "code",
   "execution_count": 9,
   "id": "16218637-e4a1-493a-b03d-0ad913e93de8",
   "metadata": {
    "tags": []
   },
   "outputs": [],
   "source": [
    "driver = webdriver.Chrome()\n",
    "ts(2); driver.get('https://korean.visitkorea.or.kr/main/main.do')\n",
    "ts(2); driver.maximize_window()"
   ]
  },
  {
   "cell_type": "code",
   "execution_count": 10,
   "id": "b6dfe433-dbfe-4aa3-a1db-e0bd26da6f6c",
   "metadata": {},
   "outputs": [],
   "source": [
    "main = driver.window_handles\n",
    "for handle in main:\n",
    "    if handle != main[0]:\n",
    "        driver.switch_to.window(handle)\n",
    "        driver.close()"
   ]
  },
  {
   "cell_type": "markdown",
   "id": "35c5815e-214b-49b8-a1bd-85724d39324c",
   "metadata": {},
   "source": [
    "# 원래 창으로 돌아가기"
   ]
  },
  {
   "cell_type": "code",
   "execution_count": 11,
   "id": "9f7543f0-39f0-48e3-a5c4-b3912d0ebf08",
   "metadata": {},
   "outputs": [],
   "source": [
    "driver.switch_to.window(driver.window_handles[0])"
   ]
  },
  {
   "cell_type": "markdown",
   "id": "f2ba8bff-6e1e-4370-b941-1c27d3e4ea0a",
   "metadata": {},
   "source": [
    "# 검색창에 검색어 넣기"
   ]
  },
  {
   "cell_type": "code",
   "execution_count": 6,
   "id": "127179af-1cf5-46df-ac15-1e7979021295",
   "metadata": {},
   "outputs": [],
   "source": [
    "from selenium.webdriver.common.by import By"
   ]
  },
  {
   "cell_type": "code",
   "execution_count": 7,
   "id": "81b3fc8c-6166-49d3-8668-b7cf7f16eb2d",
   "metadata": {},
   "outputs": [],
   "source": [
    "driver.find_element(By.ID,'query').send_keys('여름여행'+'\\n')\n",
    "ts(2); driver.find_element(By.LINK_TEXT,'학위논문').click()"
   ]
  },
  {
   "cell_type": "code",
   "execution_count": 8,
   "id": "c0f6301d-7a10-407d-b2cf-1089c7d5ecc7",
   "metadata": {},
   "outputs": [],
   "source": [
    "ts(5); driver.close()"
   ]
  }
 ],
 "metadata": {
  "kernelspec": {
   "display_name": "Python 3 (ipykernel)",
   "language": "python",
   "name": "python3"
  },
  "language_info": {
   "codemirror_mode": {
    "name": "ipython",
    "version": 3
   },
   "file_extension": ".py",
   "mimetype": "text/x-python",
   "name": "python",
   "nbconvert_exporter": "python",
   "pygments_lexer": "ipython3",
   "version": "3.10.9"
  }
 },
 "nbformat": 4,
 "nbformat_minor": 5
}
