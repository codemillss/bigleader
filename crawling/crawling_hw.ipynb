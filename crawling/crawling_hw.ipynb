{
 "cells": [
  {
   "cell_type": "markdown",
   "id": "1b1bbb2d-162f-440a-b823-415212ea9367",
   "metadata": {
    "tags": []
   },
   "source": [
    "# 1차 과제"
   ]
  },
  {
   "cell_type": "code",
   "execution_count": 16,
   "id": "97f6f8ca-b4b5-46dc-8720-4100f5c69e3f",
   "metadata": {
    "tags": []
   },
   "outputs": [],
   "source": [
    "from selenium import webdriver\n",
    "import chromedriver_autoinstaller as ca\n",
    "import time, os, sys\n",
    "from selenium.webdriver.common.by import By\n",
    "from bs4 import BeautifulSoup"
   ]
  },
  {
   "cell_type": "code",
   "execution_count": 17,
   "id": "ba75ba58-e5ee-4c46-90d5-b23656aa5bfb",
   "metadata": {},
   "outputs": [],
   "source": [
    "def ts(x) :\n",
    "    time.sleep(x)"
   ]
  },
  {
   "cell_type": "code",
   "execution_count": 18,
   "id": "16218637-e4a1-493a-b03d-0ad913e93de8",
   "metadata": {
    "tags": []
   },
   "outputs": [],
   "source": [
    "driver = webdriver.Chrome()\n",
    "ts(2); driver.get('https://korean.visitkorea.or.kr/main/main.do')\n",
    "ts(2); driver.maximize_window()\n",
    "\n",
    "main = driver.window_handles\n",
    "for handle in main:\n",
    "    if handle != main[0]:\n",
    "        driver.switch_to.window(handle)\n",
    "        driver.close()\n",
    "        \n",
    "#원래 창으로 돌아가기        \n",
    "driver.switch_to.window(driver.window_handles[0])"
   ]
  },
  {
   "cell_type": "markdown",
   "id": "f2ba8bff-6e1e-4370-b941-1c27d3e4ea0a",
   "metadata": {},
   "source": [
    "# 검색창에 검색어 넣기"
   ]
  },
  {
   "cell_type": "code",
   "execution_count": 19,
   "id": "98426fe9-dc35-4ab7-ae7b-bb5f9ec58ce7",
   "metadata": {},
   "outputs": [],
   "source": [
    "ts(2); driver.find_element(By.XPATH,'//*[@id=\"placeHolder\"]/a').click()\n",
    "ts(2); driver.find_element(By.XPATH,'//*[@id=\"inp_search\"]').send_keys('여름여행'+'\\n')\n",
    "ts(2); driver.find_element(By.XPATH,'//*[@id=\"sorting_options\"]/button[4]/span').click()\n",
    "ts(2); driver.find_element(By.XPATH,'//*[@id=\"32\"]/button/span').click()\n",
    "ts(2); driver.find_element(By.XPATH,'//*[@id=\"contents\"]/div/div[1]/div[3]/div[3]/div[2]/a[1]').click()"
   ]
  },
  {
   "cell_type": "markdown",
   "id": "362aae6a-cb2e-491f-95a5-978a4a6b4741",
   "metadata": {},
   "source": [
    "# 제목 추출"
   ]
  },
  {
   "cell_type": "code",
   "execution_count": 20,
   "id": "5ece6a37-830a-445d-9237-39b382b0a554",
   "metadata": {},
   "outputs": [],
   "source": [
    "html_1 = driver.page_source #현재 페이지의 전체 소스코드 가져오기."
   ]
  },
  {
   "cell_type": "code",
   "execution_count": 21,
   "id": "d371009d-e229-4894-a174-86882dc4ecd3",
   "metadata": {},
   "outputs": [],
   "source": [
    "soup_1 = BeautifulSoup(html_1, 'html.parser')"
   ]
  },
  {
   "cell_type": "code",
   "execution_count": 30,
   "id": "77a2d4c7-1e97-4d57-bee8-10946b5f6974",
   "metadata": {},
   "outputs": [],
   "source": [
    "content_1 = soup_1.find('ul', 'list_thumType type1').find_all(\"div\",\"tit\")"
   ]
  },
  {
   "cell_type": "code",
   "execution_count": 31,
   "id": "4218a928-795e-4b8a-b391-eba7ed361752",
   "metadata": {},
   "outputs": [
    {
     "data": {
      "text/plain": [
       "[<div class=\"tit\"> <a href=\"javascript:goSearchDetail('a925e352-16f8-41be-aaf3-dc1a960dc726');\"><em></em>아이와 가기 좋은 강원도 삼척 <!--HS-->여름<!--HE-->휴가 <!--HS-->여행<!--HE--> 코스</a> </div>,\n",
       " <div class=\"tit\"> <a href=\"javascript:goSearchDetail('204f6531-03de-4f04-93b8-d68b120f9518');\"><em></em>반려동물과 함께 떠나는 <!--HS-->여름<!--HE-->휴가, <br/>강원도 <!--HS-->여행<!--HE--> BEST 4</a> </div>,\n",
       " <div class=\"tit\"> <a href=\"javascript:goSearchDetail('0ef49349-2133-4b65-b099-cba25de87aad');\"><em></em>6월 평창 <!--HS-->여행<!--HE-->  초록뷰+흰꽃=인생샷  뚝딱!</a> </div>,\n",
       " <div class=\"tit\"> <a href=\"javascript:goSearchDetail('60275603-3402-40b8-acd3-ce45f5284679');\"><em></em>한국관광공사 추천 8월 걷기<!--HS-->여행<!--HE-->길, <!--HS-->여름<!--HE-->의 정취를 느끼러 가는 길</a> </div>,\n",
       " <div class=\"tit\"> <a href=\"javascript:goSearchDetail('3a4903b5-e13c-4536-98d2-048866c0d04d');\"><em></em>7월 강원도 영월 <!--HS-->여행<!--HE--> 힐링 코스</a> </div>,\n",
       " <div class=\"tit\"> <a href=\"javascript:goSearchDetail('8d5e7fc0-cdfc-4ec7-b2b1-5fbffcb55181');\"><em></em>미리 가보는 2018평창 관광로드 04, 숲, 바다, 예술이 어우러진 강릉 <!--HS-->여름<!--HE--> <!--HS-->여행<!--HE--></a> </div>,\n",
       " <div class=\"tit\"> <a href=\"javascript:goSearchDetail('6284f3be-649e-47f0-9157-f643df01bfed');\"><em></em>한국관광공사 추천 6월 걷기<!--HS-->여행<!--HE-->길, 싱그러운 초<!--HS-->여름<!--HE--> 날씨와 어울리는 길</a> </div>,\n",
       " <div class=\"tit\"> <a href=\"javascript:goSearchDetail('66bcfd13-6936-4bed-a15f-1a99f092fc65');\"><em></em>강릉, 솔향 타고 신나는 가족 휴가 <!--HS-->여행<!--HE-->!</a> </div>,\n",
       " <div class=\"tit\"> <a href=\"javascript:goSearchDetail('abafd881-1a67-4b4a-8cb4-ee37d62c22c7');\"><em></em>칙칙폭폭~! 기차테마파크로 떠나는 삼척 <!--HS-->여름<!--HE--> <!--HS-->여행<!--HE-->, 아름다운 동해안 풍광은 보너스!</a> </div>,\n",
       " <div class=\"tit\"> <a href=\"javascript:goSearchDetail('3d9ea823-7f0b-421e-b055-1fd8a453d0bf');\"><em></em>고성·삼척 <!--HS-->여행<!--HE-->, 무더위를 피하는 물놀이 명소 4</a> </div>]"
      ]
     },
     "execution_count": 31,
     "metadata": {},
     "output_type": "execute_result"
    }
   ],
   "source": [
    "content_1"
   ]
  },
  {
   "cell_type": "code",
   "execution_count": 33,
   "id": "f62555d5-26c9-4998-8239-4ed990efbdaa",
   "metadata": {},
   "outputs": [
    {
     "name": "stdout",
     "output_type": "stream",
     "text": [
      "아이와 가기 좋은 강원도 삼척 여름휴가 여행 코스\n",
      "반려동물과 함께 떠나는 여름휴가, 강원도 여행 BEST 4\n",
      "6월 평창 여행  초록뷰+흰꽃=인생샷  뚝딱!\n",
      "한국관광공사 추천 8월 걷기여행길, 여름의 정취를 느끼러 가는 길\n",
      "7월 강원도 영월 여행 힐링 코스\n",
      "미리 가보는 2018평창 관광로드 04, 숲, 바다, 예술이 어우러진 강릉 여름 여행\n",
      "한국관광공사 추천 6월 걷기여행길, 싱그러운 초여름 날씨와 어울리는 길\n",
      "강릉, 솔향 타고 신나는 가족 휴가 여행!\n",
      "칙칙폭폭~! 기차테마파크로 떠나는 삼척 여름 여행, 아름다운 동해안 풍광은 보너스!\n",
      "고성·삼척 여행, 무더위를 피하는 물놀이 명소 4\n"
     ]
    }
   ],
   "source": [
    "for i in content_1 :\n",
    "    print(i.get_text().replace(\"\\n\",\" \").strip())"
   ]
  },
  {
   "cell_type": "markdown",
   "id": "dc09d4f9-acc3-4deb-8662-95d8b57c129c",
   "metadata": {},
   "source": [
    "# 텍스트 파일로 저장"
   ]
  },
  {
   "cell_type": "code",
   "execution_count": 35,
   "id": "0990bb56-fcd6-40db-b2e6-13c66b455e40",
   "metadata": {},
   "outputs": [
    {
     "name": "stdin",
     "output_type": "stream",
     "text": [
      "/Users/jin10000/Desktop/Programing/Big_Leader/crawling craw_txt\n"
     ]
    },
    {
     "name": "stdout",
     "output_type": "stream",
     "text": [
      "요청하신 데이터 수집 작업이 정상적으로 완료되었습니다\n",
      "수집된 결과는 craw_txt 에 저장되었습니다\n"
     ]
    }
   ],
   "source": [
    "import sys\n",
    "f_name = input('/Users/jin10000/Desktop/Programing/Big_Leader/crawling')\n",
    "\n",
    "orig_stdout = sys.stdout\n",
    "file = open(f_name , 'a' , encoding='UTF-8')\n",
    "sys.stdout = file #모니터에 출력하지 말고 file 에 출력해라\n",
    "\n",
    "for i in content_1 :\n",
    "    print(i.get_text().replace(\"\\n\",\"\"))\n",
    "\n",
    "file.close()\n",
    "sys.stdout = orig_stdout #원래대로 변경 - 다시 화면에 출력시켜라\n",
    "\n",
    "print('요청하신 데이터 수집 작업이 정상적으로 완료되었습니다')\n",
    "print('수집된 결과는 %s 에 저장되었습니다' %f_name)"
   ]
  },
  {
   "cell_type": "code",
   "execution_count": null,
   "id": "7eef8ad3-8943-4738-8827-969cc3d25703",
   "metadata": {},
   "outputs": [],
   "source": []
  }
 ],
 "metadata": {
  "kernelspec": {
   "display_name": "Python 3 (ipykernel)",
   "language": "python",
   "name": "python3"
  },
  "language_info": {
   "codemirror_mode": {
    "name": "ipython",
    "version": 3
   },
   "file_extension": ".py",
   "mimetype": "text/x-python",
   "name": "python",
   "nbconvert_exporter": "python",
   "pygments_lexer": "ipython3",
   "version": "3.10.9"
  }
 },
 "nbformat": 4,
 "nbformat_minor": 5
}
