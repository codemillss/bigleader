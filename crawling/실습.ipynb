{
 "cells": [
  {
   "cell_type": "markdown",
   "id": "90ed9c1c-1fa3-4355-93d1-37e94bc5c4d4",
   "metadata": {
    "tags": []
   },
   "source": [
    "# 실습"
   ]
  },
  {
   "cell_type": "markdown",
   "id": "32e31cc0-d3d3-4d7b-b45a-f8ddd0bdbfde",
   "metadata": {},
   "source": [
    "from selenium import webdriver\n",
    "import chromedriver_autoinstaller as ca\n",
    "import time, os, sys"
   ]
  },
  {
   "cell_type": "code",
   "execution_count": 48,
   "id": "7c02b0ac-2ab2-4d0a-95d9-8de02356c194",
   "metadata": {},
   "outputs": [],
   "source": [
    "def ts(x) :\n",
    "    time.sleep(x)"
   ]
  },
  {
   "cell_type": "code",
   "execution_count": 69,
   "id": "ea5a2805-4665-4402-b2eb-3129c46ec42c",
   "metadata": {},
   "outputs": [],
   "source": [
    "driver = webdriver.Chrome()\n",
    "ts(1); driver.get('https://lms.ictcog.or.kr/page/index.do#')\n",
    "ts(1); driver.maximize_window()"
   ]
  },
  {
   "cell_type": "code",
   "execution_count": 61,
   "id": "322b7362-2977-4247-a1d5-78c965d7c980",
   "metadata": {},
   "outputs": [],
   "source": [
    "main = driver.window_handles\n",
    "for handle in main:\n",
    "    if handle != main[0]:\n",
    "        driver.switch_to.window(handle)\n",
    "        driver.close()"
   ]
  },
  {
   "cell_type": "markdown",
   "id": "9a971f27-b999-4779-bb9a-63cf44cecf58",
   "metadata": {},
   "source": [
    "#### 팝업 종류가 레이어 팝업으로 위의 코드로 팝업 창이 제거 되지 않는다."
   ]
  },
  {
   "cell_type": "markdown",
   "id": "285cbacb-8343-4936-a291-1caad483af8b",
   "metadata": {
    "tags": []
   },
   "source": [
    "### 아이디와 비밀 번호를 입력하는 코드"
   ]
  },
  {
   "cell_type": "code",
   "execution_count": 62,
   "id": "a4f7d864-d8a5-4821-8276-0b8209114327",
   "metadata": {},
   "outputs": [],
   "source": [
    "driver.switch_to.window(driver.window_handles[0])"
   ]
  },
  {
   "cell_type": "code",
   "execution_count": 63,
   "id": "d17f476d-fff0-448d-83fd-e4af7e52caa2",
   "metadata": {},
   "outputs": [],
   "source": [
    "from selenium.webdriver.common.by import By"
   ]
  },
  {
   "cell_type": "code",
   "execution_count": 70,
   "id": "2bf46ecd-19cc-4388-99f8-f1230c261bea",
   "metadata": {},
   "outputs": [],
   "source": [
    "ts(1); driver.find_element(By.LINK_TEXT, '닫기').click()"
   ]
  },
  {
   "cell_type": "code",
   "execution_count": 71,
   "id": "51ca246c-77ae-4da4-879f-3c6fbd417538",
   "metadata": {},
   "outputs": [],
   "source": [
    "ts(1); driver.find_element(By.XPATH,'//*[@id=\"header\"]/div[1]/div/nav[2]/ul/li[2]/a').click()"
   ]
  },
  {
   "cell_type": "code",
   "execution_count": 72,
   "id": "f7a7c472-0e4e-4a56-85b9-d5a31927d8f1",
   "metadata": {},
   "outputs": [],
   "source": [
    "driver.find_element(By.XPATH,'//*[@id=\"id\"]').send_keys('wlsaks3684@naver.com')"
   ]
  },
  {
   "cell_type": "code",
   "execution_count": 73,
   "id": "e9168094-cc8f-42ea-97ca-37069ea51e49",
   "metadata": {},
   "outputs": [],
   "source": [
    "driver.find_element(By.XPATH,'//*[@id=\"password\"]').send_keys('man3684@')"
   ]
  },
  {
   "cell_type": "code",
   "execution_count": 74,
   "id": "7a5d46d9-743f-4a01-902b-782b06b79a4d",
   "metadata": {},
   "outputs": [],
   "source": [
    "ts(1); driver.find_element(By.XPATH,'//*[@id=\"loginForm\"]/div[2]/button').click()"
   ]
  },
  {
   "cell_type": "code",
   "execution_count": 75,
   "id": "59ed9859-6461-49c1-9c69-888320a856e6",
   "metadata": {},
   "outputs": [],
   "source": [
    "ts(1); driver.find_element(By.LINK_TEXT, '닫기').click()"
   ]
  },
  {
   "cell_type": "code",
   "execution_count": null,
   "id": "8c34d902-2297-4a32-8a34-218d647a72dd",
   "metadata": {},
   "outputs": [],
   "source": [
    "ts(1); driver.find_element(By.XPATH,'//*[@id=\"header\"]/div[2]/span[2]').click()"
   ]
  },
  {
   "cell_type": "code",
   "execution_count": 76,
   "id": "a2a90e25-4557-409f-af3d-e4b2952751ec",
   "metadata": {},
   "outputs": [],
   "source": [
    "ts(1); driver.find_element(By.XPATH,'//*[@id=\"header\"]/div[1]/div/nav[1]/ul/li[4]/a/span').click()"
   ]
  },
  {
   "cell_type": "code",
   "execution_count": null,
   "id": "cd23263d-ad05-4a8c-a99e-ef44902c4ae5",
   "metadata": {},
   "outputs": [],
   "source": []
  },
  {
   "cell_type": "code",
   "execution_count": null,
   "id": "2a2dc243-92c1-4147-92e4-64d066d19af9",
   "metadata": {},
   "outputs": [],
   "source": []
  },
  {
   "cell_type": "code",
   "execution_count": null,
   "id": "24d05a68-d6e7-46ee-8efb-83d092ac6123",
   "metadata": {},
   "outputs": [],
   "source": []
  },
  {
   "cell_type": "code",
   "execution_count": null,
   "id": "fe9f6ab3-d764-41fc-8eca-32bb41f4189a",
   "metadata": {},
   "outputs": [],
   "source": []
  },
  {
   "cell_type": "code",
   "execution_count": null,
   "id": "c5690c5a-cf85-47fe-a4e4-183e0f3f5cf1",
   "metadata": {},
   "outputs": [],
   "source": [
    "ts(5); driver.close()"
   ]
  },
  {
   "cell_type": "code",
   "execution_count": null,
   "id": "6ff1feb5-0985-4d9e-9278-0673d6844e36",
   "metadata": {},
   "outputs": [],
   "source": []
  },
  {
   "cell_type": "code",
   "execution_count": null,
   "id": "b3951bd2-5893-4d8a-b7a4-7d6251481d77",
   "metadata": {},
   "outputs": [],
   "source": []
  }
 ],
 "metadata": {
  "kernelspec": {
   "display_name": "Python 3 (ipykernel)",
   "language": "python",
   "name": "python3"
  },
  "language_info": {
   "codemirror_mode": {
    "name": "ipython",
    "version": 3
   },
   "file_extension": ".py",
   "mimetype": "text/x-python",
   "name": "python",
   "nbconvert_exporter": "python",
   "pygments_lexer": "ipython3",
   "version": "3.10.9"
  }
 },
 "nbformat": 4,
 "nbformat_minor": 5
}
