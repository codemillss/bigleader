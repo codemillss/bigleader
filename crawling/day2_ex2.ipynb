{
 "cells": [
  {
   "cell_type": "code",
   "execution_count": 1,
   "metadata": {},
   "outputs": [
    {
     "name": "stdout",
     "output_type": "stream",
     "text": [
      "Unexpected exception formatting exception. Falling back to standard exception\n"
     ]
    },
    {
     "name": "stderr",
     "output_type": "stream",
     "text": [
      "Traceback (most recent call last):\n",
      "  File \"/Users/jin10000/anaconda3/lib/python3.10/site-packages/IPython/core/interactiveshell.py\", line 3460, in run_code\n",
      "    exec(code_obj, self.user_global_ns, self.user_ns)\n",
      "  File \"/var/folders/8t/f0xkq9jn6tz3c741bc5lmmmc0000gn/T/ipykernel_98244/24360917.py\", line 30, in <module>\n",
      "    soup = BeautifulSoup(driver.page_source,'html.parser')\n",
      "NameError: name 'BeautifulSoup' is not defined\n",
      "\n",
      "During handling of the above exception, another exception occurred:\n",
      "\n",
      "Traceback (most recent call last):\n",
      "  File \"/Users/jin10000/anaconda3/lib/python3.10/site-packages/IPython/core/interactiveshell.py\", line 2057, in showtraceback\n",
      "    stb = self.InteractiveTB.structured_traceback(\n",
      "  File \"/Users/jin10000/anaconda3/lib/python3.10/site-packages/IPython/core/ultratb.py\", line 1118, in structured_traceback\n",
      "    return FormattedTB.structured_traceback(\n",
      "  File \"/Users/jin10000/anaconda3/lib/python3.10/site-packages/IPython/core/ultratb.py\", line 1012, in structured_traceback\n",
      "    return VerboseTB.structured_traceback(\n",
      "  File \"/Users/jin10000/anaconda3/lib/python3.10/site-packages/IPython/core/ultratb.py\", line 865, in structured_traceback\n",
      "    formatted_exception = self.format_exception_as_a_whole(etype, evalue, etb, number_of_lines_of_context,\n",
      "  File \"/Users/jin10000/anaconda3/lib/python3.10/site-packages/IPython/core/ultratb.py\", line 818, in format_exception_as_a_whole\n",
      "    frames.append(self.format_record(r))\n",
      "  File \"/Users/jin10000/anaconda3/lib/python3.10/site-packages/IPython/core/ultratb.py\", line 736, in format_record\n",
      "    result += ''.join(_format_traceback_lines(frame_info.lines, Colors, self.has_colors, lvals))\n",
      "  File \"/Users/jin10000/anaconda3/lib/python3.10/site-packages/stack_data/utils.py\", line 145, in cached_property_wrapper\n",
      "    value = obj.__dict__[self.func.__name__] = self.func(obj)\n",
      "  File \"/Users/jin10000/anaconda3/lib/python3.10/site-packages/stack_data/core.py\", line 698, in lines\n",
      "    pieces = self.included_pieces\n",
      "  File \"/Users/jin10000/anaconda3/lib/python3.10/site-packages/stack_data/utils.py\", line 145, in cached_property_wrapper\n",
      "    value = obj.__dict__[self.func.__name__] = self.func(obj)\n",
      "  File \"/Users/jin10000/anaconda3/lib/python3.10/site-packages/stack_data/core.py\", line 645, in included_pieces\n",
      "    scope_pieces = self.scope_pieces\n",
      "  File \"/Users/jin10000/anaconda3/lib/python3.10/site-packages/stack_data/utils.py\", line 145, in cached_property_wrapper\n",
      "    value = obj.__dict__[self.func.__name__] = self.func(obj)\n",
      "  File \"/Users/jin10000/anaconda3/lib/python3.10/site-packages/stack_data/core.py\", line 585, in scope_pieces\n",
      "    for piece in self.source.pieces\n",
      "  File \"/Users/jin10000/anaconda3/lib/python3.10/site-packages/stack_data/utils.py\", line 145, in cached_property_wrapper\n",
      "    value = obj.__dict__[self.func.__name__] = self.func(obj)\n",
      "  File \"/Users/jin10000/anaconda3/lib/python3.10/site-packages/stack_data/core.py\", line 90, in pieces\n",
      "    return list(self._clean_pieces())\n",
      "  File \"/Users/jin10000/anaconda3/lib/python3.10/site-packages/stack_data/core.py\", line 114, in _clean_pieces\n",
      "    raise AssertionError(\"Pieces mismatches: %s\" % mismatches)\n",
      "AssertionError: Pieces mismatches: [{28, 29}]\n"
     ]
    }
   ],
   "source": [
    "# 웹사이트 오픈하고 닫기\n",
    "from selenium import webdriver\n",
    "import chromedriver_autoinstaller as ca\n",
    "from selenium.webdriver.common.by import By\n",
    "import time, os, sys\n",
    "#import pop_up\n",
    "ts = lambda x: time.sleep(x)\n",
    "\n",
    "driver = webdriver.Chrome()\n",
    "driver.get('https://www.riss.kr')\n",
    "\n",
    "# 팝업창이 있으면 닫고 창 최대화 하기\n",
    "all_win = driver.window_handles\n",
    "for handle in all_win :\n",
    "    if handle != all_win[0] :\n",
    "        driver.switch_to.window(handle)\n",
    "        ts(1); driver.close()           \n",
    "\n",
    "driver.switch_to.window(driver.window_handles[0])\n",
    "ts(2); driver.maximize_window()\n",
    "\n",
    "# 검색창 클릭하고 엔터 입력하기\n",
    "ts(2); driver.find_element(By.ID, 'query').send_keys('빅데이터')\n",
    "ts(2); driver.find_element(By.CLASS_NAME, 'btnSearch').click()\n",
    "\n",
    "# 원하는 버튼 클릭하기\n",
    "ts(2); driver.find_element(By.LINK_TEXT, '국내학술논문').click()\n",
    "ts(2); driver.find_element(\n",
    "    By.XPATH, '//*[@id=\"tabMenu\"]/ul/li/div/ul/li[3]/a/span').click()\n",
    "soup = BeautifulSoup(driver.page_source,'html.parser')\n",
    "\n"
   ]
  },
  {
   "cell_type": "code",
   "execution_count": 52,
   "metadata": {},
   "outputs": [
    {
     "ename": "AttributeError",
     "evalue": "'NoneType' object has no attribute 'find_all'",
     "output_type": "error",
     "traceback": [
      "\u001b[0;31m---------------------------------------------------------------------------\u001b[0m",
      "\u001b[0;31mAttributeError\u001b[0m                            Traceback (most recent call last)",
      "Cell \u001b[0;32mIn[52], line 1\u001b[0m\n\u001b[0;32m----> 1\u001b[0m title \u001b[38;5;241m=\u001b[39m \u001b[43msoup\u001b[49m\u001b[38;5;241;43m.\u001b[39;49m\u001b[43mfind\u001b[49m\u001b[43m(\u001b[49m\u001b[38;5;124;43m'\u001b[39;49m\u001b[38;5;124;43mdiv\u001b[39;49m\u001b[38;5;124;43m'\u001b[39;49m\u001b[43m,\u001b[49m\u001b[43m \u001b[49m\u001b[38;5;124;43m'\u001b[39;49m\u001b[38;5;124;43msrchResultListW\u001b[39;49m\u001b[38;5;124;43m'\u001b[39;49m\u001b[43m)\u001b[49m\u001b[38;5;241;43m.\u001b[39;49m\u001b[43mfind_all\u001b[49m(\u001b[38;5;124m'\u001b[39m\u001b[38;5;124mp\u001b[39m\u001b[38;5;124m'\u001b[39m, class_\u001b[38;5;241m=\u001b[39m\u001b[38;5;124m'\u001b[39m\u001b[38;5;124mtitle\u001b[39m\u001b[38;5;124m'\u001b[39m)\n\u001b[1;32m      2\u001b[0m \u001b[38;5;28;01mfor\u001b[39;00m i \u001b[38;5;129;01min\u001b[39;00m title:\n\u001b[1;32m      3\u001b[0m     \u001b[38;5;28mprint\u001b[39m(i\u001b[38;5;241m.\u001b[39mget_text())\n",
      "\u001b[0;31mAttributeError\u001b[0m: 'NoneType' object has no attribute 'find_all'"
     ]
    }
   ],
   "source": [
    "title = soup.find('div', 'srchResultListW').find_all('p', class_='title')\n",
    "for i in title:\n",
    "    print(i.get_text())\n",
    "    \n",
    "# 창 닫기\n",
    "ts(5); driver.close()"
   ]
  },
  {
   "cell_type": "code",
   "execution_count": 53,
   "metadata": {},
   "outputs": [
    {
     "data": {
      "text/plain": [
       "'/Users/jin10000/Desktop/Programing/Big_Leader/crawling'"
      ]
     },
     "execution_count": 53,
     "metadata": {},
     "output_type": "execute_result"
    }
   ],
   "source": [
    "os.getcwd()"
   ]
  },
  {
   "cell_type": "code",
   "execution_count": null,
   "metadata": {},
   "outputs": [],
   "source": []
  },
  {
   "cell_type": "code",
   "execution_count": null,
   "metadata": {},
   "outputs": [],
   "source": []
  },
  {
   "cell_type": "code",
   "execution_count": null,
   "metadata": {},
   "outputs": [],
   "source": []
  }
 ],
 "metadata": {
  "kernelspec": {
   "display_name": "Python 3 (ipykernel)",
   "language": "python",
   "name": "python3"
  },
  "language_info": {
   "codemirror_mode": {
    "name": "ipython",
    "version": 3
   },
   "file_extension": ".py",
   "mimetype": "text/x-python",
   "name": "python",
   "nbconvert_exporter": "python",
   "pygments_lexer": "ipython3",
   "version": "3.10.9"
  }
 },
 "nbformat": 4,
 "nbformat_minor": 4
}
