{
 "cells": [
  {
   "cell_type": "code",
   "execution_count": 20,
   "metadata": {},
   "outputs": [],
   "source": [
    "#Step 1. 필요한 모듈을 로딩합니다.\n",
    "from bs4 import BeautifulSoup\n",
    "from selenium import webdriver\n",
    "from selenium.webdriver.common.keys import Keys\n",
    "from selenium.webdriver.common.by import By\n",
    "import chromedriver_autoinstaller as ca\n",
    "import urllib.request, time, os\n",
    "\n",
    "#Step 2. 사용자에게 필요한 정보를 입력 받습니다.\n",
    "query_txt = '강아지'\n",
    "cnt = 50\n",
    "\n",
    "# 현재시간 활용 폴더 생성\n",
    "now = \"/Users/jin10000/Desktop/Programing/Big_Leader/crawling/file\" + time.strftime(\"%Y%m%d_%H%M%S\") +'-' + query_txt  \n",
    "os.makedirs(now)\n",
    "os.chdir(now)\n",
    "\n",
    "# Step 3. 크롬 드라이버를 사용해서 웹 브라우저를 실행합니다.\n",
    "try :\n",
    "    driver = webdriver.Chrome()\n",
    "    driver.get(\n",
    "        'https://search.naver.com/search.naver?where=image&sm=tab_jum&query=' + query_txt)\n",
    "except :\n",
    "    pass    \n",
    "\n",
    "# 웹페이지를 6회 스크롤 다운 합니다 (END 키 전송)\n",
    "for _ in range(6) :\n",
    "    time.sleep(3)\n",
    "    driver.find_element(By.XPATH,'//body').send_keys(Keys.END)\n",
    "\n",
    "# Step 4. 이미지 추출하기  \n",
    "img_src = []\n",
    "soup = BeautifulSoup(driver.page_source, 'html.parser')\n",
    "\n",
    "for i in soup.find_all('img', '_image _listImage') :\n",
    "    img_src.append(i[\"src\"])\n",
    "\n",
    "for idx, save_img in enumerate(img_src, start = 1) :\n",
    "    urllib.request.urlretrieve(save_img, str(idx) + \".jpg\")\n",
    "    \n",
    "    if idx == cnt :\n",
    "        break\n",
    "\n",
    "driver.close()"
   ]
  },
  {
   "cell_type": "code",
   "execution_count": 23,
   "metadata": {},
   "outputs": [],
   "source": [
    "x = soup.find_all('img', class_='_image _listImage')[0]"
   ]
  },
  {
   "cell_type": "code",
   "execution_count": 25,
   "metadata": {},
   "outputs": [
    {
     "data": {
      "text/plain": [
       "<img alt=\"강아지 분양 받을 때 꼭 알아야 할 것\" class=\"_image _listImage\" data-org-height=\"337\" data-org-width=\"340\" src=\"https://search.pstatic.net/common/?src=http%3A%2F%2Fblogfiles.naver.net%2FMjAyMzA2MDhfMjYw%2FMDAxNjg2MjMwODQ2MzIx.8mQvsH7I1WmFVoYL2zTibVEUuilnFv3Bmt-QkQG6uAwg.gHIB1XAXegi_m3eCfQP4kwl8s4XdJZjba3S7-zmGc7Eg.JPEG.caries79%2F1686230845390.jpg&amp;type=a340\" style=\"height: 217px; opacity: 1;\"/>"
      ]
     },
     "execution_count": 25,
     "metadata": {},
     "output_type": "execute_result"
    }
   ],
   "source": [
    "x"
   ]
  },
  {
   "cell_type": "code",
   "execution_count": 24,
   "metadata": {},
   "outputs": [
    {
     "data": {
      "text/plain": [
       "'https://search.pstatic.net/common/?src=http%3A%2F%2Fblogfiles.naver.net%2FMjAyMzA2MDhfMjYw%2FMDAxNjg2MjMwODQ2MzIx.8mQvsH7I1WmFVoYL2zTibVEUuilnFv3Bmt-QkQG6uAwg.gHIB1XAXegi_m3eCfQP4kwl8s4XdJZjba3S7-zmGc7Eg.JPEG.caries79%2F1686230845390.jpg&type=a340'"
      ]
     },
     "execution_count": 24,
     "metadata": {},
     "output_type": "execute_result"
    }
   ],
   "source": [
    "x['src']"
   ]
  },
  {
   "cell_type": "code",
   "execution_count": null,
   "metadata": {},
   "outputs": [],
   "source": []
  }
 ],
 "metadata": {
  "kernelspec": {
   "display_name": "Python 3 (ipykernel)",
   "language": "python",
   "name": "python3"
  },
  "language_info": {
   "codemirror_mode": {
    "name": "ipython",
    "version": 3
   },
   "file_extension": ".py",
   "mimetype": "text/x-python",
   "name": "python",
   "nbconvert_exporter": "python",
   "pygments_lexer": "ipython3",
   "version": "3.10.9"
  },
  "vscode": {
   "interpreter": {
    "hash": "19d1d53a962d236aa061289c2ac16dc8e6d9648c89fe79f459ae9a3493bc67b4"
   }
  }
 },
 "nbformat": 4,
 "nbformat_minor": 4
}
