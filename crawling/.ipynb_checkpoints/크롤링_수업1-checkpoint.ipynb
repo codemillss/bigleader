{
 "cells": [
  {
   "cell_type": "markdown",
   "id": "c5b0157c-da67-4f47-91fa-cbb3e1e3f722",
   "metadata": {
    "tags": []
   },
   "source": [
    "# 8조 과제"
   ]
  },
  {
   "cell_type": "code",
   "execution_count": 1,
   "id": "edfdc0d5-664e-4c1c-9d76-e4493ca5e9e2",
   "metadata": {
    "tags": []
   },
   "outputs": [],
   "source": [
    "from selenium import webdriver\n",
    "import chromedriver_autoinstaller as ca\n",
    "import time, os, sys"
   ]
  },
  {
   "cell_type": "markdown",
   "id": "9e816d84-7ea3-4290-ba31-20236753eb77",
   "metadata": {
    "tags": []
   },
   "source": [
    "# 크롤링"
   ]
  },
  {
   "cell_type": "markdown",
   "id": "3710e23d-fdfd-465f-ae03-6de206af739b",
   "metadata": {
    "tags": []
   },
   "source": [
    "# 웹 사이트 오픈"
   ]
  },
  {
   "cell_type": "code",
   "execution_count": 2,
   "id": "1f6db5e6-1814-4d2c-9f52-805221f02aaa",
   "metadata": {},
   "outputs": [],
   "source": [
    "def ts(x) :\n",
    "    time.sleep(x)"
   ]
  },
  {
   "cell_type": "code",
   "execution_count": 9,
   "id": "3e7547ea-dc13-4e81-b972-f8b42e820baf",
   "metadata": {
    "tags": []
   },
   "outputs": [],
   "source": [
    "driver = webdriver.Chrome()\n",
    "ts(2); driver.get('https:/www.riss.kr')\n",
    "ts(2); driver.maximize_window()"
   ]
  },
  {
   "cell_type": "code",
   "execution_count": 10,
   "id": "dc85388c-18a2-446c-9cfa-e94dc4667ea1",
   "metadata": {},
   "outputs": [],
   "source": [
    "main = driver.window_handles\n",
    "for handle in main:\n",
    "    if handle != main[0]:\n",
    "        driver.switch_to.window(handle)\n",
    "        driver.close()"
   ]
  },
  {
   "cell_type": "markdown",
   "id": "2fb79316-115f-4c92-8275-31c87598c0c2",
   "metadata": {},
   "source": [
    "# 원래 창으로 돌아가기"
   ]
  },
  {
   "cell_type": "code",
   "execution_count": 11,
   "id": "51715f0d-3c54-4a54-b8e4-664fa377c1cf",
   "metadata": {},
   "outputs": [],
   "source": [
    "driver.switch_to.window(driver.window_handles[0])"
   ]
  },
  {
   "cell_type": "markdown",
   "id": "4b36fdfb-cad9-4467-8285-5ec1e9ea52d8",
   "metadata": {},
   "source": [
    "# 검색창에 검색어 넣기"
   ]
  },
  {
   "cell_type": "code",
   "execution_count": 6,
   "id": "50cbcc64-7f8a-452a-a21f-fb9df709e86b",
   "metadata": {},
   "outputs": [],
   "source": [
    "from selenium.webdriver.common.by import By"
   ]
  },
  {
   "cell_type": "code",
   "execution_count": 7,
   "id": "a6d33017-2d42-4fdd-b871-d3e7c8a8714c",
   "metadata": {},
   "outputs": [],
   "source": [
    "driver.find_element(By.ID,'query').send_keys('여름여행'+'\\n')\n",
    "ts(2); driver.find_element(By.LINK_TEXT,'학위논문').click()"
   ]
  },
  {
   "cell_type": "code",
   "execution_count": 8,
   "id": "eca54655-cbeb-4710-a6a3-8b6bccab5881",
   "metadata": {},
   "outputs": [],
   "source": [
    "ts(5); driver.close()"
   ]
  },
  {
   "cell_type": "code",
   "execution_count": null,
   "id": "38175044-cd80-40f9-8e8e-4a9305ceb39c",
   "metadata": {},
   "outputs": [],
   "source": []
  },
  {
   "cell_type": "code",
   "execution_count": null,
   "id": "0ed18179-41eb-4d05-9222-f9cb13a1658f",
   "metadata": {},
   "outputs": [],
   "source": []
  },
  {
   "cell_type": "code",
   "execution_count": null,
   "id": "a62344cf-f69f-47fe-ac2f-15270ccb567a",
   "metadata": {},
   "outputs": [],
   "source": []
  },
  {
   "cell_type": "code",
   "execution_count": null,
   "id": "789aab08-6a0d-4b40-bed3-51c8f659a3e6",
   "metadata": {},
   "outputs": [],
   "source": []
  },
  {
   "cell_type": "code",
   "execution_count": null,
   "id": "49c2deab-9fa6-4dc3-898c-ce8ec75d5fe7",
   "metadata": {},
   "outputs": [],
   "source": []
  },
  {
   "cell_type": "code",
   "execution_count": null,
   "id": "0bd69eed-c19f-459f-8bc6-db32952950ed",
   "metadata": {},
   "outputs": [],
   "source": []
  },
  {
   "cell_type": "code",
   "execution_count": null,
   "id": "99da08fa-1539-4f7a-a194-2c4b10531c36",
   "metadata": {},
   "outputs": [],
   "source": []
  }
 ],
 "metadata": {
  "kernelspec": {
   "display_name": "Python 3 (ipykernel)",
   "language": "python",
   "name": "python3"
  },
  "language_info": {
   "codemirror_mode": {
    "name": "ipython",
    "version": 3
   },
   "file_extension": ".py",
   "mimetype": "text/x-python",
   "name": "python",
   "nbconvert_exporter": "python",
   "pygments_lexer": "ipython3",
   "version": "3.10.9"
  }
 },
 "nbformat": 4,
 "nbformat_minor": 5
}
