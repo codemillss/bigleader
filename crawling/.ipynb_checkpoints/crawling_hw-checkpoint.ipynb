{
 "cells": [
  {
   "cell_type": "markdown",
   "id": "1b1bbb2d-162f-440a-b823-415212ea9367",
   "metadata": {
    "tags": []
   },
   "source": [
    "# 1차 과제"
   ]
  },
  {
   "cell_type": "code",
   "execution_count": 1,
   "id": "97f6f8ca-b4b5-46dc-8720-4100f5c69e3f",
   "metadata": {
    "tags": []
   },
   "outputs": [],
   "source": [
    "from selenium import webdriver\n",
    "import chromedriver_autoinstaller as ca\n",
    "import time, os, sys\n",
    "from selenium.webdriver.common.by import By\n",
    "from bs4 import BeautifulSoup"
   ]
  },
  {
   "cell_type": "code",
   "execution_count": 2,
   "id": "ba75ba58-e5ee-4c46-90d5-b23656aa5bfb",
   "metadata": {},
   "outputs": [],
   "source": [
    "def ts(x) :\n",
    "    time.sleep(x)"
   ]
  },
  {
   "cell_type": "code",
   "execution_count": 3,
   "id": "16218637-e4a1-493a-b03d-0ad913e93de8",
   "metadata": {
    "tags": []
   },
   "outputs": [],
   "source": [
    "driver = webdriver.Chrome()\n",
    "ts(2); driver.get('https://korean.visitkorea.or.kr/main/main.do')\n",
    "ts(2); driver.maximize_window()\n",
    "\n",
    "main = driver.window_handles\n",
    "for handle in main:\n",
    "    if handle != main[0]:\n",
    "        driver.switch_to.window(handle)\n",
    "        driver.close()\n",
    "        \n",
    "#원래 창으로 돌아가기        \n",
    "driver.switch_to.window(driver.window_handles[0])"
   ]
  },
  {
   "cell_type": "markdown",
   "id": "f2ba8bff-6e1e-4370-b941-1c27d3e4ea0a",
   "metadata": {},
   "source": [
    "# 검색창에 검색어 넣기"
   ]
  },
  {
   "cell_type": "code",
   "execution_count": 6,
   "id": "98426fe9-dc35-4ab7-ae7b-bb5f9ec58ce7",
   "metadata": {},
   "outputs": [],
   "source": [
    "ts(2); driver.find_element(By.XPATH,'//*[@id=\"placeHolder\"]/a').click()\n",
    "ts(2); driver.find_element(By.XPATH,'//*[@id=\"inp_search\"]').send_keys('여름여행'+'\\n')\n",
    "ts(2); driver.find_element(By.XPATH,'//*[@id=\"sorting_options\"]/button[4]/span').click()\n",
    "ts(2); driver.find_element(By.XPATH,'//*[@id=\"32\"]/button/span').click()\n",
    "ts(2); driver.find_element(By.XPATH,'//*[@id=\"contents\"]/div/div[1]/div[3]/div[3]/div[2]/a[1]').click()"
   ]
  },
  {
   "cell_type": "markdown",
   "id": "362aae6a-cb2e-491f-95a5-978a4a6b4741",
   "metadata": {},
   "source": [
    "# 제목 추출"
   ]
  },
  {
   "cell_type": "code",
   "execution_count": 12,
   "id": "5ece6a37-830a-445d-9237-39b382b0a554",
   "metadata": {},
   "outputs": [],
   "source": [
    "html_1 = driver.page_source #현재 페이지의 전체 소스코드 가져오기."
   ]
  },
  {
   "cell_type": "code",
   "execution_count": 14,
   "id": "d371009d-e229-4894-a174-86882dc4ecd3",
   "metadata": {},
   "outputs": [],
   "source": [
    "soup_1 = BeautifulSoup(html_1, 'html.parser')"
   ]
  },
  {
   "cell_type": "code",
   "execution_count": 21,
   "id": "3e28c4bc-f5c7-4470-ba46-e30e7eb565d2",
   "metadata": {},
   "outputs": [],
   "source": [
    "content_1 = soup_1.find('div','search_body').find_all('li')"
   ]
  },
  {
   "cell_type": "code",
   "execution_count": 23,
   "id": "f62555d5-26c9-4998-8239-4ed990efbdaa",
   "metadata": {},
   "outputs": [],
   "source": [
    "for i in content_1 :\n",
    "    print(i.get_text().replace(\"\\n\",\" \").strip())\n",
    "    print(\"\\n\")"
   ]
  },
  {
   "cell_type": "markdown",
   "id": "dc09d4f9-acc3-4deb-8662-95d8b57c129c",
   "metadata": {},
   "source": [
    "# 텍스트 파일로 저장"
   ]
  },
  {
   "cell_type": "code",
   "execution_count": null,
   "id": "0990bb56-fcd6-40db-b2e6-13c66b455e40",
   "metadata": {},
   "outputs": [],
   "source": [
    "import sys\n",
    "f_name = input('/Users/jin10000/Desktop/Programing/Big_Leader/crawling')\n",
    "\n",
    "orig_stdout = sys.stdout\n",
    "file = open(f_name , 'a' , encoding='UTF-8')\n",
    "sys.stdout = file #모니터에 출력하지 말고 file 에 출력해라\n",
    "\n",
    "for i in content_1 :\n",
    "print(i.get_text().replace(\"\\n\",\"\"))\n",
    "\n",
    "file.close()\n",
    "sys.stdout = orig_stdout #원래대로 변경 - 다시 화면에 출력시켜라\n",
    "\n",
    "print('요청하신 데이터 수집 작업이 정상적으로 완료되었습니다')\n",
    "print('수집된 결과는 %s 에 저장되었습니다' %f_name)"
   ]
  }
 ],
 "metadata": {
  "kernelspec": {
   "display_name": "Python 3 (ipykernel)",
   "language": "python",
   "name": "python3"
  },
  "language_info": {
   "codemirror_mode": {
    "name": "ipython",
    "version": 3
   },
   "file_extension": ".py",
   "mimetype": "text/x-python",
   "name": "python",
   "nbconvert_exporter": "python",
   "pygments_lexer": "ipython3",
   "version": "3.10.9"
  }
 },
 "nbformat": 4,
 "nbformat_minor": 5
}
