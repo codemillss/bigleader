{
 "cells": [
  {
   "cell_type": "code",
   "execution_count": null,
   "metadata": {},
   "outputs": [],
   "source": [
    "# 웹사이트 오픈하고 닫기\n",
    "from selenium import webdriver\n",
    "import chromedriver_autoinstaller as ca\n",
    "from selenium.webdriver.common.by import By\n",
    "import time, os, sys\n",
    "#import pop_up\n",
    "ts = lambda x: time.sleep(x)\n",
    "\n",
    "driver = webdriver.Chrome(ca.install())\n",
    "driver.get('https://www.riss.kr')\n",
    "\n",
    "# 팝업창이 있으면 닫고 창 최대화 하기\n",
    "all_win = driver.window_handles\n",
    "for handle in all_win :\n",
    "    if handle != all_win[0] :\n",
    "        driver.switch_to.window(handle)\n",
    "        ts(1); driver.close()\n",
    "driver.switch_to.window(driver.window_handles[0])\n",
    "ts(2); driver.maximize_window()\n",
    "\n",
    "# 검색창 클릭하고 엔터 입력하기\n",
    "ts(2); driver.find_element(By.ID, 'query').send_keys('빅데이터')\n",
    "ts(2); driver.find_element(By.CLASS_NAME, 'btnSearch').click()\n",
    "\n",
    "# 원하는 버튼 클릭하기\n",
    "ts(2); driver.find_element(By.LINK_TEXT, '국내학술논문').click()\n",
    "ts(2); driver.find_element(\n",
    "    By.XPATH, '//*[@id=\"tabMenu\"]/ul/li/div/ul/li[3]/a/span').click()\n",
    "\n",
    "# 창 닫기\n",
    "ts(5); driver.close()"
   ]
  },
  {
   "cell_type": "code",
   "execution_count": null,
   "metadata": {},
   "outputs": [],
   "source": [
    "from bs4 import BeautifulSoup\n",
    "soup = BeautifulSoup(driver.page_source,'html.parser')\n",
    "ts(5); driver.close()"
   ]
  },
  {
   "cell_type": "code",
   "execution_count": null,
   "metadata": {},
   "outputs": [],
   "source": []
  }
 ],
 "metadata": {
  "kernelspec": {
   "display_name": "base",
   "language": "python",
   "name": "python3"
  },
  "language_info": {
   "codemirror_mode": {
    "name": "ipython",
    "version": 3
   },
   "file_extension": ".py",
   "mimetype": "text/x-python",
   "name": "python",
   "nbconvert_exporter": "python",
   "pygments_lexer": "ipython3",
   "version": "3.9.12"
  },
  "orig_nbformat": 4
 },
 "nbformat": 4,
 "nbformat_minor": 2
}
