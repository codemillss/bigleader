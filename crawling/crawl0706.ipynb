{
 "cells": [
  {
   "cell_type": "markdown",
   "id": "135ac4c0-fcbf-4215-aa87-68ec7ebe75e5",
   "metadata": {},
   "source": [
    "# bs4"
   ]
  },
  {
   "cell_type": "code",
   "execution_count": 20,
   "id": "bb7326fe-b301-49ba-9437-3ab5bb7ae08e",
   "metadata": {},
   "outputs": [],
   "source": [
    "ex1 = '''\n",
    "<html>\n",
    "<head>\n",
    "<title> HTML 연습 </title>\n",
    "</head> <body>\n",
    "속성값을 사용하여 조회하기\n",
    "<p align=\"center\"> text 1 </p>\n",
    "<p align=\"right\"> text 2 </p>\n",
    "<p align=\"left\"> text 3 </p>\n",
    "<img src=\"c:\\\\temp\\\\image\\\\솔개.png\">\n",
    "</body> <html> '''"
   ]
  },
  {
   "cell_type": "code",
   "execution_count": 21,
   "id": "18854c3c-5a8e-4ee2-a552-dbdcbf9c89ee",
   "metadata": {},
   "outputs": [],
   "source": [
    "from bs4 import BeautifulSoup"
   ]
  },
  {
   "cell_type": "code",
   "execution_count": 22,
   "id": "1b15587a-7903-4de8-a201-d46d89294bee",
   "metadata": {},
   "outputs": [],
   "source": [
    "soup = BeautifulSoup(ex1,'html.parser')"
   ]
  },
  {
   "cell_type": "code",
   "execution_count": 23,
   "id": "49387ad3-4011-41da-a385-d9fd699ebdd2",
   "metadata": {},
   "outputs": [
    {
     "data": {
      "text/plain": [
       "<p align=\"right\"> text 2 </p>"
      ]
     },
     "execution_count": 23,
     "metadata": {},
     "output_type": "execute_result"
    }
   ],
   "source": [
    "soup.find('p',align='right')"
   ]
  },
  {
   "cell_type": "code",
   "execution_count": 24,
   "id": "f44448c2-b32b-4502-99a0-56b7cc86da94",
   "metadata": {},
   "outputs": [
    {
     "data": {
      "text/plain": [
       "[<p align=\"center\"> text 1 </p>,\n",
       " <p align=\"right\"> text 2 </p>,\n",
       " <p align=\"left\"> text 3 </p>]"
      ]
     },
     "execution_count": 24,
     "metadata": {},
     "output_type": "execute_result"
    }
   ],
   "source": [
    "soup.find_all('p')"
   ]
  },
  {
   "cell_type": "code",
   "execution_count": 25,
   "id": "2f52519d-2aaf-4bcc-aaaf-7a6bd636a38d",
   "metadata": {},
   "outputs": [
    {
     "name": "stdout",
     "output_type": "stream",
     "text": [
      " text 1 \n",
      " text 2 \n",
      " text 3 \n"
     ]
    }
   ],
   "source": [
    "for i in soup.find_all('p') :\n",
    "    print(i.get_text())"
   ]
  },
  {
   "cell_type": "code",
   "execution_count": 26,
   "id": "583266e3-f1ea-4aef-a9ba-60d152f0e68d",
   "metadata": {},
   "outputs": [
    {
     "data": {
      "text/plain": [
       "[' text 1 ', ' text 2 ', ' text 3 ']"
      ]
     },
     "execution_count": 26,
     "metadata": {},
     "output_type": "execute_result"
    }
   ],
   "source": [
    "[i.get_text() for i in soup.find_all('p')]"
   ]
  },
  {
   "cell_type": "code",
   "execution_count": null,
   "id": "473fb994-0a1e-439c-a1e3-2463f39d0857",
   "metadata": {},
   "outputs": [],
   "source": []
  },
  {
   "cell_type": "code",
   "execution_count": 32,
   "id": "f17206c2-041d-4825-89aa-645faf30cbab",
   "metadata": {},
   "outputs": [
    {
     "name": "stdout",
     "output_type": "stream",
     "text": [
      "0  txt 1 \n",
      "1  txt 2 \n",
      "2  txt 3 \n"
     ]
    }
   ],
   "source": [
    "for idx, i in enumerate(soup.find_all('p')):\n",
    "    print(idx, i.get_text().replace('text','txt'))"
   ]
  },
  {
   "cell_type": "markdown",
   "id": "3449eb00-d87b-4330-9abd-13e461f396ba",
   "metadata": {},
   "source": [
    "# 리스트 컴프리헨션 추가 찾아보기"
   ]
  },
  {
   "cell_type": "code",
   "execution_count": 34,
   "id": "57e53c09-5268-4bcc-aaa2-409168a3a79e",
   "metadata": {},
   "outputs": [
    {
     "ename": "SyntaxError",
     "evalue": "did you forget parentheses around the comprehension target? (1463599883.py, line 1)",
     "output_type": "error",
     "traceback": [
      "\u001b[0;36m  Cell \u001b[0;32mIn[34], line 1\u001b[0;36m\u001b[0m\n\u001b[0;31m    [idx, i.get_text().replace('text','txt') for idx, i in enumerate(soup.find_all('p'))]\u001b[0m\n\u001b[0m     ^\u001b[0m\n\u001b[0;31mSyntaxError\u001b[0m\u001b[0;31m:\u001b[0m did you forget parentheses around the comprehension target?\n"
     ]
    }
   ],
   "source": [
    "[idx, i.get_text().replace('text','txt') for idx, i in enumerate(soup.find_all('p'))]"
   ]
  },
  {
   "cell_type": "code",
   "execution_count": null,
   "id": "fafafd23-4631-42cd-bd02-82df6a1d686d",
   "metadata": {},
   "outputs": [],
   "source": []
  },
  {
   "cell_type": "code",
   "execution_count": 40,
   "id": "157be78a-aec3-4118-970d-e991a77d42ac",
   "metadata": {},
   "outputs": [
    {
     "name": "stdout",
     "output_type": "stream",
     "text": [
      "\u001b[31mERROR: Could not find a version that satisfies the requirement pop_up (from versions: none)\u001b[0m\u001b[31m\n",
      "\u001b[0m\u001b[31mERROR: No matching distribution found for pop_up\u001b[0m\u001b[31m\n",
      "\u001b[0mNote: you may need to restart the kernel to use updated packages.\n"
     ]
    }
   ],
   "source": [
    "pip install pop_up"
   ]
  }
 ],
 "metadata": {
  "kernelspec": {
   "display_name": "Python 3 (ipykernel)",
   "language": "python",
   "name": "python3"
  },
  "language_info": {
   "codemirror_mode": {
    "name": "ipython",
    "version": 3
   },
   "file_extension": ".py",
   "mimetype": "text/x-python",
   "name": "python",
   "nbconvert_exporter": "python",
   "pygments_lexer": "ipython3",
   "version": "3.10.9"
  }
 },
 "nbformat": 4,
 "nbformat_minor": 5
}
